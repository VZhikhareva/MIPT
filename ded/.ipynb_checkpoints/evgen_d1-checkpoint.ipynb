{
 "cells": [
  {
   "cell_type": "code",
   "execution_count": 16,
   "metadata": {
    "pycharm": {
     "is_executing": false
    }
   },
   "outputs": [],
   "source": [
    "import numpy as np\n",
    "from matplotlib import pyplot as plt\n",
    "from ipywidgets import *\n",
    "%matplotlib notebook"
   ]
  },
  {
   "cell_type": "code",
   "execution_count": 17,
   "metadata": {},
   "outputs": [],
   "source": [
    "class Log:\n",
    "    def __init__(self,time,r,u,rho,eps,p,i1,i2,i3):\n",
    "        self.time=time\n",
    "        self.r=r\n",
    "        self.u=u\n",
    "        self.rho=rho\n",
    "        self.eps=eps\n",
    "        self.p=p\n",
    "        self.i1 = i1\n",
    "        self.i2 = i2\n",
    "        self.i3 = i3\n",
    "        "
   ]
  },
  {
   "cell_type": "code",
   "execution_count": null,
   "metadata": {
    "pycharm": {
     "is_executing": false
    }
   },
   "outputs": [],
   "source": [
    "N = 200\n",
    "d_m = 1.0/N\n",
    "d_t = 1e-4\n",
    "gamma = 5.0/3.0\n",
    "t_step = 1000\n",
    "\n",
    "u_prev = np.zeros(N)\n",
    "u = u_prev\n",
    "r_prev = np.zeros(N)\n",
    "r = r_prev\n",
    "V_prev = np.ones(N - 1) / 3\n",
    "V = V_prev\n",
    "eps_prev = np.ones(N - 1)\n",
    "eps = eps_prev\n",
    "p_prev = 3*(gamma - 1)*np.ones(N - 1)\n",
    "p = p_prev\n",
    "\n",
    "for i in range (0,N-1):\n",
    "    r_prev[i+1]=(r_prev[i]**3+1/N)**(1/3)\n",
    "    \n",
    "T=int(3/d_t)\n",
    "\n",
    "log = []\n",
    "for t in range (0,T):\n",
    "    for i in range (0,N-1):\n",
    "        if (i<N-2):\n",
    "            u[i+1]=u_prev[i+1]-d_t/d_m*r_prev[i+1]**2*(p_prev[i+1]-p_prev[i])\n",
    "        else:\n",
    "            u[i+1]=u_prev[i+1]+d_t/d_m*r_prev[i+1]**2*(p_prev[i])\n",
    "        r[i+1]=r_prev[i+1]+d_t*u[i+1]\n",
    "        V[i]=(r[i+1]**3-r[i]**3)/(3*d_m)\n",
    "        eps[i]=eps_prev[i]*V[i]/V_prev[i]*((V_prev[i]+(gamma-1)/2*(V_prev[i]-V[i]))/(V[i]-(gamma-1)/2*(V_prev[i]-V[i])))\n",
    "        p[i]=(gamma-1)*eps[i]/V[i]\n",
    "    \n",
    "    if (t + 1) % t_step == 0 or t == 1:    \n",
    "        i1=0\n",
    "        i2=0\n",
    "        i3=0\n",
    "        for i in range (0,N-1):\n",
    "            i1+=(r[i+1]**3-r[i]**3)/V[i]\n",
    "            i2+=eps[i]+u[i+1]**2/2\n",
    "            i3+=(r[i+1]**3-r[i]**3)/V[i]*(eps[i]+u[i+1]**2/2)\n",
    "            \n",
    "        log.append(Log((t+1)*d_t,r.copy(),u.copy(),1/V,eps.copy(),p.copy(),i1,i2,i3))\n",
    "        \n",
    "    u_prev=u.copy()\n",
    "    p_prev=p.copy()\n",
    "    V_prev=V.copy()\n",
    "    eps_prev=eps.copy()\n",
    "    r_prev=r.copy()"
   ]
  },
  {
   "cell_type": "code",
   "execution_count": null,
   "metadata": {
    "pycharm": {
     "is_executing": false
    },
    "scrolled": false
   },
   "outputs": [],
   "source": [
    "def graph(func,ymax=2,xmax = 20,is_log = False):\n",
    "    x = log[0].r[0:N-1]\n",
    "    fig = plt.figure(figsize=(8, 3))\n",
    "    ax = fig.add_subplot(1,1,1)\n",
    "    ax.set_ylim(0.00001,ymax)\n",
    "    ax.set_xlim(0,xmax)\n",
    "    line, = ax.plot(x, func(0))\n",
    "    if is_log:\n",
    "        ax.set_yscale('log')\n",
    "\n",
    "    def update(t=0):\n",
    "        line.set_xdata(log[t].r[0:N-1])\n",
    "        line.set_ydata(func(t))\n",
    "        fig.canvas.draw()\n",
    "    \n",
    "    interact(update,t= widgets.IntSlider(value=0, min=0, max=len(log)-1, step=1))"
   ]
  },
  {
   "cell_type": "code",
   "execution_count": null,
   "metadata": {
    "pycharm": {
     "is_executing": false
    }
   },
   "outputs": [],
   "source": [
    "%matplotlib notebook\n",
    "graph(lambda t: log[t].rho[0:N-1],ymax=1.7)"
   ]
  },
  {
   "cell_type": "code",
   "execution_count": null,
   "metadata": {},
   "outputs": [],
   "source": [
    "graph(lambda t: log[t].p[0:N-1],ymax=2)"
   ]
  },
  {
   "cell_type": "code",
   "execution_count": null,
   "metadata": {},
   "outputs": [],
   "source": [
    "graph(lambda t: log[t].eps[0:N-1],ymax=1.5)"
   ]
  },
  {
   "cell_type": "code",
   "execution_count": null,
   "metadata": {
    "scrolled": false
   },
   "outputs": [],
   "source": [
    "graph(lambda t: log[t].u[0:N-1],ymax=3)"
   ]
  },
  {
   "cell_type": "code",
   "execution_count": null,
   "metadata": {
    "scrolled": false
   },
   "outputs": [],
   "source": [
    "plt.figure(figsize=(5, 3))\n",
    "\n",
    "i = [log[t].i1 for t in range(len(log))]\n",
    "iterat = range(len(log))\n",
    "plt.plot(iterat,i)\n",
    "axes = plt.gca()\n",
    "axes.set_ylim([0,5])\n",
    "plt.xlabel(\"t\")\n",
    "plt.ylabel(\"i1\")"
   ]
  },
  {
   "cell_type": "code",
   "execution_count": null,
   "metadata": {},
   "outputs": [],
   "source": [
    "plt.figure(figsize=(5, 3))\n",
    "\n",
    "i = [log[t].i2 for t in range(len(log))]\n",
    "print(i)\n",
    "iterat = range(len(log))\n",
    "plt.plot(iterat,i)\n",
    "axes = plt.gca()\n",
    "axes.set_ylim([0,500])\n",
    "plt.xlabel(\"t\")\n",
    "plt.ylabel(\"i2\")"
   ]
  },
  {
   "cell_type": "code",
   "execution_count": null,
   "metadata": {},
   "outputs": [],
   "source": [
    "plt.figure(figsize=(5, 3))\n",
    "\n",
    "i = [log[t].i3 for t in range(len(log))]\n",
    "iterat = range(len(log))\n",
    "plt.plot(iterat,i)\n",
    "axes = plt.gca()\n",
    "axes.set_ylim([0,500])\n",
    "plt.xlabel(\"t\")\n",
    "plt.ylabel(\"i3\")"
   ]
  },
  {
   "cell_type": "code",
   "execution_count": null,
   "metadata": {},
   "outputs": [],
   "source": []
  },
  {
   "cell_type": "code",
   "execution_count": null,
   "metadata": {},
   "outputs": [],
   "source": []
  }
 ],
 "metadata": {
  "kernelspec": {
   "display_name": "Python 3",
   "language": "python",
   "name": "python3"
  },
  "language_info": {
   "codemirror_mode": {
    "name": "ipython",
    "version": 3
   },
   "file_extension": ".py",
   "mimetype": "text/x-python",
   "name": "python",
   "nbconvert_exporter": "python",
   "pygments_lexer": "ipython3",
   "version": "3.7.6"
  }
 },
 "nbformat": 4,
 "nbformat_minor": 4
}
