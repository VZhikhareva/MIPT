{
 "cells": [
  {
   "cell_type": "markdown",
   "metadata": {},
   "source": [
    "### начальные условия"
   ]
  },
  {
   "cell_type": "code",
   "execution_count": 88,
   "metadata": {},
   "outputs": [],
   "source": [
    "gamma = 5/3\n",
    "N = 10000\n",
    "m_step = 1/N\n",
    "t_step = 1e-4\n",
    "import numpy as np\n",
    "import sys"
   ]
  },
  {
   "cell_type": "markdown",
   "metadata": {},
   "source": [
    "### заполнение u, v, r, p, e   \n",
    "{(t, n): value}"
   ]
  },
  {
   "cell_type": "code",
   "execution_count": 126,
   "metadata": {},
   "outputs": [],
   "source": [
    "class genMap:\n",
    "    def __init__(self, nmin, nmax, jmin, jmax, name):\n",
    "        self.jmin = jmin\n",
    "        self.jmax = jmax\n",
    "        self.nmin = nmin\n",
    "        self.nmax = nmax\n",
    "        self.name = name\n",
    "        self.arr = np.zeros((int(nmax - nmin + 1), int(jmax - jmin + 1)))\n",
    "    def get(self, n, j):\n",
    "#         if (int(n - self.nmin) != (n - self.nmin) or int(j - self.jmin) != (j - self.jmin)):\n",
    "#             print(\"warning 1:\", int(n - self.nmin) - (n - self.nmin), int(j - self.jmin) - (j - self.jmin))\n",
    "#         if (int(n - self.nmin) < 0 or int(j - self.jmin)  < 0):\n",
    "#             print(\"warning 1 2:\", int(n - self.nmin) - (n - self.nmin), int(j - self.jmin) - (j - self.jmin))\n",
    "        return (self.arr[int(n - self.nmin), int(j - self.jmin)])\n",
    "    def asg(self, n, j, val):\n",
    "        if (val != val):\n",
    "            print(\"warning 2 3:\", val, self.name)\n",
    "            sys.exit(\"Error message\")\n",
    "#         if (int(n - self.nmin) != (n - self.nmin) or int(j - self.jmin) != (j - self.jmin)):\n",
    "#             print(\"warning 2:\", int(n - self.nmin) - (n - self.nmin), int(j - self.jmin) - (j - self.jmin))\n",
    "#         if (int(n - self.nmin) < 0 or int(j - self.jmin)  < 0):\n",
    "#             print(\"warning 2 2:\", int(n - self.nmin) - (n - self.nmin), int(j - self.jmin) - (j - self.jmin))\n",
    "        self.arr[int(n - self.nmin), int(j - self.jmin)] = val"
   ]
  },
  {
   "cell_type": "code",
   "execution_count": 127,
   "metadata": {},
   "outputs": [],
   "source": [
    "u = genMap(0.5, N +.5, 0, N, 'u')\n",
    "v = genMap(0, N +1, 0.5, N + .5, 'v')\n",
    "r = genMap(0, N +1, 0, N + 1, 'r')\n",
    "p = genMap(0, N +1, .5, N + .5, 'p')\n",
    "e = genMap(0, N +1, .5, N + .5, 'e')"
   ]
  },
  {
   "cell_type": "markdown",
   "metadata": {},
   "source": [
    "#### заполнение r в начальный момент времени"
   ]
  },
  {
   "cell_type": "code",
   "execution_count": 128,
   "metadata": {},
   "outputs": [],
   "source": [
    "r.asg(0, 0, 0)\n",
    "for i in range(1, N+2):\n",
    "    r.asg(0, i, ((r.get(0, i-1))**3 + 1/N)**(1/3))"
   ]
  },
  {
   "cell_type": "markdown",
   "metadata": {},
   "source": [
    "#### заполнение p в начальный момент времени"
   ]
  },
  {
   "cell_type": "code",
   "execution_count": 129,
   "metadata": {},
   "outputs": [],
   "source": [
    "for i in range(1, N+1):\n",
    "    p.asg(0, i - 0.5, 3 * (gamma - 1))"
   ]
  },
  {
   "cell_type": "markdown",
   "metadata": {},
   "source": [
    "#### заполнение $\\varepsilon$ в начальный момент времени"
   ]
  },
  {
   "cell_type": "code",
   "execution_count": 130,
   "metadata": {},
   "outputs": [],
   "source": [
    "for i in range(1, N+1):\n",
    "    e.asg(0, i - 0.5, 1)"
   ]
  },
  {
   "cell_type": "markdown",
   "metadata": {},
   "source": [
    "#### заполнение u в начальный момент времени"
   ]
  },
  {
   "cell_type": "code",
   "execution_count": 131,
   "metadata": {},
   "outputs": [],
   "source": [
    "# for i in range(N+1):\n",
    "#     u[(0.5, i)] = 0"
   ]
  },
  {
   "cell_type": "markdown",
   "metadata": {},
   "source": [
    "#### заполнение v в начальный момент времени"
   ]
  },
  {
   "cell_type": "code",
   "execution_count": 132,
   "metadata": {},
   "outputs": [],
   "source": [
    "for i in range(1, N+1):\n",
    "    v.asg(0, i - 0.5, 1/3)"
   ]
  },
  {
   "cell_type": "code",
   "execution_count": 133,
   "metadata": {},
   "outputs": [
    {
     "data": {
      "text/plain": [
       "0.0"
      ]
     },
     "execution_count": 133,
     "metadata": {},
     "output_type": "execute_result"
    }
   ],
   "source": [
    "np.max(p.arr[9, :])"
   ]
  },
  {
   "cell_type": "code",
   "execution_count": 134,
   "metadata": {},
   "outputs": [
    {
     "name": "stdout",
     "output_type": "stream",
     "text": [
      "0\n",
      "warning 2 3: nan u\n"
     ]
    },
    {
     "name": "stderr",
     "output_type": "stream",
     "text": [
      "C:\\Anaconda2\\lib\\site-packages\\ipykernel_launcher.py:16: RuntimeWarning: overflow encountered in double_scalars\n",
      "  app.launch_new_instance()\n",
      "C:\\Anaconda2\\lib\\site-packages\\ipykernel_launcher.py:7: RuntimeWarning: invalid value encountered in double_scalars\n",
      "  import sys\n"
     ]
    },
    {
     "ename": "SystemExit",
     "evalue": "Error message",
     "output_type": "error",
     "traceback": [
      "An exception has occurred, use %tb to see the full traceback.\n",
      "\u001b[1;31mSystemExit\u001b[0m\u001b[1;31m:\u001b[0m Error message\n"
     ]
    }
   ],
   "source": [
    "for n in range(0, N+1):\n",
    "    if n % 100 == 0:\n",
    "        print(n)\n",
    "    if n != 0 :\n",
    "#         u.asg(n + 0.5, 0, 0)\n",
    "        for j in range(1, N):\n",
    "            u.asg(n + 0.5, j, u.get(n-0.5, j) - t_step * (r.get(n, j)**2) * (p.get(n, j + 0.5) - p.get(n, j - 0.5))/m_step)\n",
    "        u.asg(n + 0.5, N, u.get(n - 0.5, N)  + t_step * (r.get(n, N)**2) * p.get(n, N - 0.5)/m_step)\n",
    "#     r[(n+1, 0)] = 0 \n",
    "    for j in range(1, N+1):\n",
    "        r.asg(n+1, j, r.get(n, j) + u.get(n + 0.5, j) * t_step)\n",
    "    for j in range(1, N+1):\n",
    "        v.asg(n + 1, j - 0.5, (r.get(n+1, j)**3 - r.get(n+1, j-1)**3)/(3*m_step))\n",
    "    for j in range(1, N+1):\n",
    "        tmp = (gamma - 1)*(v.get(n, j-0.5) - v.get(n+1, j - 0.5))/2\n",
    "        e.asg(n+1, j - 0.5, e.get(n, j - 0.5) *(v.get(n+1, j - 0.5) / v.get(n, j - 0.5)) * (v.get(n, j - 0.5) + tmp)/(v.get(n+1, j - 0.5) - tmp))\n",
    "    for j in range(1, N+1):\n",
    "        p.asg(n+1, j - 0.5, (gamma - 1)*e.get(n+1, j - 0.5)/v.get(n+1, j - 0.5))"
   ]
  },
  {
   "cell_type": "code",
   "execution_count": null,
   "metadata": {},
   "outputs": [],
   "source": [
    "from matplotlib import pyplot as plt\n",
    "from matplotlib.animation import FuncAnimation\n",
    "import numpy as np\n",
    "lst_rn = [0, 1, 5, 15, 25, 50, 99]\n",
    "lst_rn = [2]\n",
    "n"
   ]
  },
  {
   "cell_type": "code",
   "execution_count": 124,
   "metadata": {},
   "outputs": [],
   "source": [
    "# n = 0\n",
    "# for n in lst_rn:\n",
    "#     plt.plot(np.arange(0, N+1), [r[(n, i)] for i in range(N+1)])\n",
    "# plt.title('r')"
   ]
  },
  {
   "cell_type": "code",
   "execution_count": 125,
   "metadata": {},
   "outputs": [
    {
     "data": {
      "text/plain": [
       "[Text(0, 0.5, 'e')]"
      ]
     },
     "execution_count": 125,
     "metadata": {},
     "output_type": "execute_result"
    },
    {
     "data": {
      "image/png": "[encoded data removed]",
      "text/plain": [
       "<Figure size 432x288 with 4 Axes>"
      ]
     },
     "metadata": {
      "needs_background": "light"
     },
     "output_type": "display_data"
    }
   ],
   "source": [
    "fig, axs = plt.subplots(2, 2)\n",
    "for n in lst_rn:\n",
    "    axs[0, 0].plot([r.get(n, i) for i in range(N+1)], [u.get(n + .5, i) for i in range(N+1)])\n",
    "    axs[0, 0].set_title('u')\n",
    "for n in lst_rn:\n",
    "    axs[0, 1].plot([r.get(n, i) for i in range(1, N+1)], [v.get(n, i -.5) for i in range(1, N+1)])\n",
    "axs[0, 1].set_title(\"v\")\n",
    "for n in lst_rn:\n",
    "    axs[1, 0].plot([r.get(n, i) for i in range(1, N+1)], [p.get(n, i - .5) for i in range(1, N+1)])\n",
    "axs[1, 0].set(ylabel  = 'p')\n",
    "for n in lst_rn:\n",
    "    axs[1, 1].plot([r.get(n, i) for i in range(1, N+1)], [e.get(n, i - .5) for i in range(1, N+1)])\n",
    "axs[1, 1].set(ylabel  = 'e')"
   ]
  },
  {
   "cell_type": "code",
   "execution_count": 122,
   "metadata": {},
   "outputs": [
    {
     "ename": "TypeError",
     "evalue": "'genMap' object is not subscriptable",
     "output_type": "error",
     "traceback": [
      "\u001b[1;31m---------------------------------------------------------------------------\u001b[0m",
      "\u001b[1;31mTypeError\u001b[0m                                 Traceback (most recent call last)",
      "\u001b[1;32m<ipython-input-122-7d8fb71ac3d8>\u001b[0m in \u001b[0;36m<module>\u001b[1;34m\u001b[0m\n\u001b[1;32m----> 1\u001b[1;33m \u001b[0mnp\u001b[0m\u001b[1;33m.\u001b[0m\u001b[0mmin\u001b[0m\u001b[1;33m(\u001b[0m\u001b[1;33m[\u001b[0m\u001b[0mp\u001b[0m\u001b[1;33m[\u001b[0m\u001b[1;33m(\u001b[0m\u001b[0mn\u001b[0m\u001b[1;33m,\u001b[0m \u001b[0mi\u001b[0m \u001b[1;33m-\u001b[0m \u001b[1;36m.5\u001b[0m\u001b[1;33m)\u001b[0m\u001b[1;33m]\u001b[0m \u001b[1;32mfor\u001b[0m \u001b[0mi\u001b[0m \u001b[1;32min\u001b[0m \u001b[0mrange\u001b[0m\u001b[1;33m(\u001b[0m\u001b[1;36m1\u001b[0m\u001b[1;33m,\u001b[0m \u001b[0mN\u001b[0m\u001b[1;33m+\u001b[0m\u001b[1;36m1\u001b[0m\u001b[1;33m)\u001b[0m\u001b[1;33m]\u001b[0m\u001b[1;33m)\u001b[0m\u001b[1;33m\u001b[0m\u001b[1;33m\u001b[0m\u001b[0m\n\u001b[0m",
      "\u001b[1;32m<ipython-input-122-7d8fb71ac3d8>\u001b[0m in \u001b[0;36m<listcomp>\u001b[1;34m(.0)\u001b[0m\n\u001b[1;32m----> 1\u001b[1;33m \u001b[0mnp\u001b[0m\u001b[1;33m.\u001b[0m\u001b[0mmin\u001b[0m\u001b[1;33m(\u001b[0m\u001b[1;33m[\u001b[0m\u001b[0mp\u001b[0m\u001b[1;33m[\u001b[0m\u001b[1;33m(\u001b[0m\u001b[0mn\u001b[0m\u001b[1;33m,\u001b[0m \u001b[0mi\u001b[0m \u001b[1;33m-\u001b[0m \u001b[1;36m.5\u001b[0m\u001b[1;33m)\u001b[0m\u001b[1;33m]\u001b[0m \u001b[1;32mfor\u001b[0m \u001b[0mi\u001b[0m \u001b[1;32min\u001b[0m \u001b[0mrange\u001b[0m\u001b[1;33m(\u001b[0m\u001b[1;36m1\u001b[0m\u001b[1;33m,\u001b[0m \u001b[0mN\u001b[0m\u001b[1;33m+\u001b[0m\u001b[1;36m1\u001b[0m\u001b[1;33m)\u001b[0m\u001b[1;33m]\u001b[0m\u001b[1;33m)\u001b[0m\u001b[1;33m\u001b[0m\u001b[1;33m\u001b[0m\u001b[0m\n\u001b[0m",
      "\u001b[1;31mTypeError\u001b[0m: 'genMap' object is not subscriptable"
     ]
    }
   ],
   "source": [
    "np.min([p[(n, i - .5)] for i in range(1, N+1)])"
   ]
  },
  {
   "cell_type": "code",
   "execution_count": null,
   "metadata": {},
   "outputs": [],
   "source": [
    "[r[(0, i)] for i in range(1, N+1)]"
   ]
  },
  {
   "cell_type": "code",
   "execution_count": null,
   "metadata": {},
   "outputs": [],
   "source": []
  }
 ],
 "metadata": {
  "kernelspec": {
   "display_name": "Python 3",
   "language": "python",
   "name": "python3"
  },
  "language_info": {
   "codemirror_mode": {
    "name": "ipython",
    "version": 3
   },
   "file_extension": ".py",
   "mimetype": "text/x-python",
   "name": "python",
   "nbconvert_exporter": "python",
   "pygments_lexer": "ipython3",
   "version": "3.6.8"
  }
 },
 "nbformat": 4,
 "nbformat_minor": 2
}
