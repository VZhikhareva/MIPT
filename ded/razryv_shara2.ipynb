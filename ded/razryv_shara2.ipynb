{
 "cells": [
  {
   "cell_type": "markdown",
   "metadata": {},
   "source": [
    "### начальные условия"
   ]
  },
  {
   "cell_type": "code",
   "execution_count": 1,
   "metadata": {},
   "outputs": [],
   "source": [
    "gamma = 5/3\n",
    "#N = 100\n",
    "t_step = 1e-4\n",
    "#T = 10\n",
    "import numpy as np\n",
    "from matplotlib import pyplot as plt\n",
    "from matplotlib.animation import FuncAnimation\n"
   ]
  },
  {
   "cell_type": "markdown",
   "metadata": {},
   "source": [
    "### заполнение u, v, r, p, e   \n",
    "{(t, n): value}"
   ]
  },
  {
   "cell_type": "code",
   "execution_count": 2,
   "metadata": {},
   "outputs": [],
   "source": [
    "class genMap:\n",
    "    def __init__(self, nmin, nmax, jmin, jmax, name):\n",
    "        self.jmin = jmin\n",
    "        self.jmax = jmax\n",
    "        self.nmin = nmin\n",
    "        self.nmax = nmax\n",
    "        self.name = name\n",
    "        self.arr = np.zeros((int(nmax - nmin + 1), int(jmax - jmin + 1)))\n",
    "    def get(self, n, j):  # получить значение параматера в точке сетки\n",
    "        return (self.arr[int(n - self.nmin), int(j - self.jmin)])\n",
    "    def asg(self, n, j, val):  # присвоить значение параметру в точке сетки\n",
    "        self.arr[int(n - self.nmin), int(j - self.jmin)] = val"
   ]
  },
  {
   "cell_type": "code",
   "execution_count": 3,
   "metadata": {},
   "outputs": [],
   "source": [
    "def calc_all(N, T):\n",
    "    m_step = 1/N\n",
    "    Nstep = int(T / t_step)\n",
    "    u = genMap(0.5, Nstep +.5, 0, N, 'u')\n",
    "    v = genMap(0, Nstep +1, 0.5, N + .5, 'v')\n",
    "    r = genMap(0, Nstep +1, 0, N + 1, 'r')\n",
    "    p = genMap(0, Nstep +1, .5, N + .5, 'p')\n",
    "    e = genMap(0, Nstep +1, .5, N + .5, 'e')\n",
    "    #### заполнение r в начальный момент времени\n",
    "    for i in range(1, N+2):\n",
    "        r.asg(0, i, ((r.get(0, i-1))**3 + 1/N)**(1/3))\n",
    "    #### заполнение p в начальный момент времени\n",
    "    for i in range(1, N+1):\n",
    "        p.asg(0, i - 0.5, 3 * (gamma - 1))\n",
    "    #### заполнение $\\varepsilon$ в начальный момент времени\n",
    "    for i in range(1, N+1):\n",
    "        e.asg(0, i - 0.5, 1)\n",
    "    #### заполнение v в начальный момент времени\n",
    "    for i in range(1, N+1):\n",
    "        v.asg(0, i - 0.5, 1/3)\n",
    "    ## Calculate\n",
    "    for n in range(0, Nstep):\n",
    "        if n != 0 and int(n * t_step) == n * t_step:\n",
    "            print(\"time estimate:\", int(n * t_step))\n",
    "        if n != 0:\n",
    "            for j in range(1, N):\n",
    "                u.asg(n + 0.5, j, u.get(n-0.5, j) - t_step * (r.get(n, j)**2) * (p.get(n, j + 0.5) - p.get(n, j - 0.5))/m_step)\n",
    "            u.asg(n + 0.5, N, u.get(n - 0.5, N)  + t_step * (r.get(n, N)**2) * p.get(n, N - 0.5)/m_step)\n",
    "        for j in range(1, N+1):\n",
    "            r.asg(n+1, j, r.get(n, j) + u.get(n + 0.5, j) * t_step)\n",
    "        for j in range(1, N+1):\n",
    "            v.asg(n + 1, j - 0.5, (r.get(n+1, j)**3 - r.get(n+1, j-1)**3)/(3*m_step))\n",
    "        for j in range(1, N+1):\n",
    "            tmp = (gamma - 1)*(v.get(n, j-0.5) - v.get(n+1, j - 0.5))/2\n",
    "            e.asg(n+1, j - 0.5, e.get(n, j - 0.5) *(v.get(n+1, j - 0.5) / v.get(n, j - 0.5)) * (v.get(n, j - 0.5) + tmp)/(v.get(n+1, j - 0.5) - tmp))\n",
    "        for j in range(1, N+1):\n",
    "            p.asg(n+1, j - 0.5, (gamma - 1)*e.get(n+1, j - 0.5)/v.get(n+1, j - 0.5))\n",
    "        \n",
    "    print(\"Finsih N: \" + str(N) + \", time: \" + str(T), \", T step: \", Nstep)\n",
    "    return({'N': N, 'T': T, 'u' : u, 'v' : v, 'r' : r, 'p' : p, 'e' : e, 'Nstep' : Nstep})"
   ]
  },
  {
   "cell_type": "code",
   "execution_count": 4,
   "metadata": {},
   "outputs": [
    {
     "name": "stdout",
     "output_type": "stream",
     "text": [
      "time estimate: 1\n",
      "Finsih N: 500, time: 2 , T step:  20000\n",
      "time estimate: 1\n",
      "Finsih N: 250, time: 2 , T step:  20000\n"
     ]
    }
   ],
   "source": [
    "rs1 = calc_all(500, 2)\n",
    "rs2 = calc_all(250, 2)\n"
   ]
  },
  {
   "cell_type": "code",
   "execution_count": 5,
   "metadata": {},
   "outputs": [],
   "source": [
    "# lst_rn = [int(tm / t_step) for tm in [1, 3, 5, 7.5, 9.9]]\n",
    "lst_rn = [int(tm / t_step) for tm in [.5, 1.5, 2, 3, 4.9]]\n",
    "def show_res(rs, lst_rn):\n",
    "    N = rs['N']\n",
    "    r = rs['r']\n",
    "    u = rs['u']\n",
    "    v = rs['v']\n",
    "    p = rs['p']\n",
    "    e = rs['e']\n",
    "    fig, axs = plt.subplots(2, 2)\n",
    "    for n in lst_rn:\n",
    "        axs[0, 0].plot([r.get(n, i) for i in range(N+1)], [u.get(n + .5, i) for i in range(N+1)], label = str(round(n * t_step, 2)))\n",
    "    axs[0, 0].set_title('u')\n",
    "    axs[0, 0].legend()\n",
    "    for n in lst_rn:\n",
    "        axs[0, 1].plot([r.get(n, i) for i in range(1, N+1)], [v.get(n, i -.5) for i in range(1, N+1)])\n",
    "    axs[0, 1].set_title(\"v\")\n",
    "    for n in lst_rn:\n",
    "        axs[1, 0].plot([r.get(n, i) for i in range(1, N+1)], [p.get(n, i - .5) for i in range(1, N+1)])\n",
    "    axs[1, 0].set(ylabel  = 'p')\n",
    "    for n in lst_rn:\n",
    "        axs[1, 1].plot([r.get(n, i) for i in range(1, N+1)], [e.get(n, i - .5) for i in range(1, N+1)])\n",
    "    axs[1, 1].set(ylabel  = 'e')\n",
    "    plt.show()"
   ]
  },
  {
   "cell_type": "code",
   "execution_count": 7,
   "metadata": {
    "scrolled": true
   },
   "outputs": [],
   "source": [
    "show_res(rs1, [int(tm / t_step) for tm in [.5, 1.5, 2, 3, 4.9]])"
   ]
  },
  {
   "cell_type": "code",
   "execution_count": 8,
   "metadata": {},
   "outputs": [
    {
     "data": {
      "image/png": "[encoded data removed]",
      "text/plain": [
       "<Figure size 432x288 with 4 Axes>"
      ]
     },
     "metadata": {
      "needs_background": "light"
     },
     "output_type": "display_data"
    }
   ],
   "source": [
    "show_res(rs1, [int(tm / t_step) for tm in [.5, .75, 1, 1.5, 2]])"
   ]
  },
  {
   "cell_type": "code",
   "execution_count": 9,
   "metadata": {},
   "outputs": [
    {
     "data": {
      "text/plain": [
       "<matplotlib.collections.LineCollection at 0x3483d9c8>"
      ]
     },
     "execution_count": 9,
     "metadata": {},
     "output_type": "execute_result"
    },
    {
     "data": {
      "image/png": "[encoded data removed]",
      "text/plain": [
       "<Figure size 432x288 with 1 Axes>"
      ]
     },
     "metadata": {
      "needs_background": "light"
     },
     "output_type": "display_data"
    }
   ],
   "source": [
    "### Limit u\n",
    "plt.plot([i * t_step for i in range(rs1['Nstep'])], [rs1['u'].get(i, rs1['N']) for i in range(rs1['Nstep'])])\n",
    "plt.hlines(y = 2.5, xmin = 0, xmax = rs1['Nstep'] * t_step)"
   ]
  },
  {
   "cell_type": "code",
   "execution_count": 10,
   "metadata": {},
   "outputs": [
    {
     "name": "stdout",
     "output_type": "stream",
     "text": [
      "law 1 2.9999999999999654\n",
      "law 2 2.9999906530943417\n"
     ]
    }
   ],
   "source": [
    "Nstep = rs1['Nstep']\n",
    "N = rs1['N']\n",
    "k = 0\n",
    "for i in range(N):\n",
    "    k = k + (rs1['r'].get(Nstep, i + 1) ** 3 - rs1['r'].get(Nstep, i) ** 3) / rs1['v'].get(Nstep, i + .5)\n",
    "print('law 1', k)\n",
    "\n",
    "k = 0\n",
    "for i in range(N):\n",
    "    k = k + (rs1['e'].get(Nstep, i + .5) + .5 * rs1['u'].get(Nstep, i + 1) ** 2) * (rs1['r'].get(Nstep, i + 1) ** 3 - rs1['r'].get(Nstep, i) ** 3) / rs1['v'].get(Nstep, i + .5)\n",
    "print('law 2', k)\n",
    "\n"
   ]
  },
  {
   "cell_type": "code",
   "execution_count": 11,
   "metadata": {},
   "outputs": [],
   "source": [
    "def compare_res(rs1, rs2):\n",
    "    fig, axs = plt.subplots(2, 2)\n",
    "    n = int(rs1['u'].nmax)\n",
    "    axs[0, 0].plot([rs1['r'].get(n, i) for i in range(rs1['N']+1)], [rs1['u'].get(n - .5, i) for i in range(rs1['N']+1)], label = 'rs 1')\n",
    "    axs[0, 0].plot([rs2['r'].get(n, i) for i in range(rs2['N']+1)], [rs2['u'].get(n - .5, i) for i in range(rs2['N']+1)], label = 'rs 2')\n",
    "    axs[0, 0].set_title('u')\n",
    "    axs[0, 0].legend()\n",
    "    axs[0, 1].plot([rs1['r'].get(n, i) for i in range(1, rs1['N']+1)], [rs1['v'].get(n, i -.5) for i in range(1, rs1['N']+1)])\n",
    "    axs[0, 1].plot([rs2['r'].get(n, i) for i in range(1, rs2['N']+1)], [rs2['v'].get(n, i -.5) for i in range(1, rs2['N']+1)])\n",
    "    axs[0, 1].set_title(\"v\")\n",
    "    axs[1, 0].plot([rs1['r'].get(n, i) for i in range(1, rs1['N']+1)], [rs1['p'].get(n, i - .5) for i in range(1, rs1['N']+1)])\n",
    "    axs[1, 0].plot([rs2['r'].get(n, i) for i in range(1, rs2['N']+1)], [rs2['p'].get(n, i - .5) for i in range(1, rs2['N']+1)])\n",
    "    axs[1, 0].set(ylabel  = 'p')\n",
    "    axs[1, 1].plot([rs1['r'].get(n, i) for i in range(1, rs1['N']+1)], [rs1['e'].get(n, i - .5) for i in range(1, rs1['N']+1)])\n",
    "    axs[1, 1].plot([rs2['r'].get(n, i) for i in range(1, rs2['N']+1)], [rs2['e'].get(n, i - .5) for i in range(1, rs2['N']+1)])\n",
    "    axs[1, 1].set(ylabel  = 'e')\n",
    "    plt.show()"
   ]
  },
  {
   "cell_type": "code",
   "execution_count": 12,
   "metadata": {},
   "outputs": [
    {
     "data": {
      "image/png": "[encoded data removed]",
      "text/plain": [
       "<Figure size 432x288 with 4 Axes>"
      ]
     },
     "metadata": {
      "needs_background": "light"
     },
     "output_type": "display_data"
    }
   ],
   "source": [
    "compare_res(rs1, rs2)"
   ]
  },
  {
   "cell_type": "code",
   "execution_count": null,
   "metadata": {},
   "outputs": [],
   "source": [
    "fig, ((ax1, ax2), (ax3, ax4)) = plt.subplots(2, 2, figsize = (15, 15))\n",
    "fig.subplots_adjust(hspace = .5, wspace = .5)\n",
    "line1, = ax1.plot([], [], lw=2)\n",
    "line2, = ax2.plot([], [], lw=2)\n",
    "line3, = ax3.plot([], [], lw=2)\n",
    "line4, = ax4.plot([], [], lw=2)\n",
    "ax1.set_xlim(0, np.max(rs1['r'].arr))\n",
    "ax2.set_xlim(0, np.max(rs1['r'].arr))\n",
    "ax3.set_xlim(0, np.max(rs1['r'].arr))\n",
    "ax4.set_xlim(0, np.max(rs1['r'].arr))\n",
    "   \n",
    "ax1.set_ylim(0, 1.15 * np.max(rs1['u'].arr))\n",
    "ax2.set_ylim(0, 1.15 * np.max(rs1['v'].arr))\n",
    "ax3.set_ylim(0, 1.15 * np.max(rs1['p'].arr))\n",
    "ax4.set_ylim(0, 1.15 * np.max(rs1['e'].arr))\n",
    "\n",
    "ax1.set_title('u')\n",
    "ax2.set_title('v')\n",
    "ax3.set_title('p')\n",
    "ax4.set_title('e')\n",
    "\n",
    "def init():\n",
    "    animate(0)\n",
    "    return axs,\n",
    "def animate(n2):\n",
    "    n = n2 * 1000\n",
    "    N = rs1['N']\n",
    "    line1.set_data([rs1['r'].get(n, i) for i in range(N+1)], [rs1['u'].get(n + .5, i) for i in range(N+1)])\n",
    "    line2.set_data([rs1['r'].get(n, i) for i in range(1, N+1)], [rs1['v'].get(n, i -.5) for i in range(1, N+1)])\n",
    "    line3.set_data([rs1['r'].get(n, i) for i in range(1, N+1)], [rs1['p'].get(n, i - .5) for i in range(1, N+1)])\n",
    "    line4.set_data([rs1['r'].get(n, i) for i in range(1, N+1)], [rs1['e'].get(n, i - .5) for i in range(1, N+1)])\n",
    "    return line1, line2, line3, line4,\n",
    "anim = FuncAnimation(fig, animate, init_func = init, \n",
    "                               frames=int(rs1['Nstep']/1000), interval=10, blit=True)\n",
    "anim.save('sine_wave.gif', writer='imagemagick')"
   ]
  }
 ],
 "metadata": {
  "kernelspec": {
   "display_name": "Python 3",
   "language": "python",
   "name": "python3"
  },
  "language_info": {
   "codemirror_mode": {
    "name": "ipython",
    "version": 3
   },
   "file_extension": ".py",
   "mimetype": "text/x-python",
   "name": "python",
   "nbconvert_exporter": "python",
   "pygments_lexer": "ipython3",
   "version": "3.7.6"
  }
 },
 "nbformat": 4,
 "nbformat_minor": 2
}
