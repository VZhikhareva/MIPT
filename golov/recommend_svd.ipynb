{
 "cells": [
  {
   "cell_type": "markdown",
   "metadata": {},
   "source": [
    "Использовались данные о 100 пользователях и 1000 фильмах"
   ]
  },
  {
   "cell_type": "code",
   "execution_count": 657,
   "metadata": {},
   "outputs": [],
   "source": [
    "import numpy as np\n",
    "import pandas as pd\n",
    "import scipy\n",
    "from scipy.sparse import csc_matrix\n",
    "from scipy.sparse.linalg import svds, eigs\n",
    "from sympy import *"
   ]
  },
  {
   "cell_type": "code",
   "execution_count": 658,
   "metadata": {},
   "outputs": [],
   "source": [
    "df_movies = pd.read_csv('movies.csv')\n",
    "df_ratings = pd.read_csv('ratings.csv')"
   ]
  },
  {
   "cell_type": "code",
   "execution_count": 659,
   "metadata": {},
   "outputs": [],
   "source": [
    "moview_n = max(set(df_ratings['movieId'])) # number of movies 8915\n",
    "user_n = (max(set(df_ratings['userId']))) # number of users 718\n",
    "R = np.zeros((user_n, moview_n)) \n",
    "for i in range(len(df_ratings)):\n",
    "    R[int(df_ratings['userId'][i] -1 )][int(df_ratings['movieId'][i] -1 )] = (df_ratings['rating'][i])\n",
    "R = R[0:100, 0:1000]  # economy of time"
   ]
  },
  {
   "cell_type": "code",
   "execution_count": 660,
   "metadata": {},
   "outputs": [],
   "source": [
    "u, s, vt = scipy.linalg.svd(R)"
   ]
  },
  {
   "cell_type": "code",
   "execution_count": 661,
   "metadata": {},
   "outputs": [],
   "source": [
    "ss = np.zeros((np.shape(R)[0], np.shape(R)[1]))\n",
    "for i in range(k):\n",
    "    ss[i][i] = s[i] \n"
   ]
  },
  {
   "cell_type": "code",
   "execution_count": 662,
   "metadata": {},
   "outputs": [],
   "source": [
    "d = 20 #np.where(s > 1)[0][-1]\n",
    "ss = ss[0:d, 0:d]\n",
    "u = u[0:, 0:d]\n",
    "vt = vt[0:d, 0:]\n",
    "\n",
    "# reconstruction of matrix R -> X'\n",
    "U = u.dot(ss)\n",
    "X = (U.dot(vt))"
   ]
  },
  {
   "cell_type": "code",
   "execution_count": 663,
   "metadata": {},
   "outputs": [],
   "source": [
    "for i in not_null[0]:\n",
    "    X[not_null[0][i]][not_null[1][i]] = 0"
   ]
  },
  {
   "cell_type": "code",
   "execution_count": 664,
   "metadata": {},
   "outputs": [],
   "source": [
    "def recommend(userid):\n",
    "    return np.argmax(X[userid - 1]) + 1"
   ]
  },
  {
   "cell_type": "code",
   "execution_count": 665,
   "metadata": {},
   "outputs": [],
   "source": [
    "recom_df = pd.DataFrame()\n",
    "recom_df['userId'] = list(range(1, 11))\n",
    "rec_list = []\n",
    "pred_rat = []\n",
    "title_l = []\n",
    "genres_l = []\n",
    "for i in range(1, 11):\n",
    "    rec_list.append(recommend(i))\n",
    "    pred_rat.append(round(max(X[i - 1]), 1))\n",
    "    title_l.append(np.array(df_movies[df_movies['movieId'] == recommend(i)]['title'])[0])\n",
    "    genres_l.append(np.array(df_movies[df_movies['movieId'] == recommend(i)]['genres'])[0])\n",
    "recom_df['recommended_movieId'] = rec_list\n",
    "recom_df['predicted_rating'] = pred_rat\n",
    "recom_df['title'] = title_l\n",
    "recom_df['genres'] = genres_l"
   ]
  },
  {
   "cell_type": "code",
   "execution_count": 667,
   "metadata": {},
   "outputs": [],
   "source": [
    "recom_df.to_csv('./recommend_svd_Zhikhareva.csv')"
   ]
  },
  {
   "cell_type": "code",
   "execution_count": null,
   "metadata": {},
   "outputs": [],
   "source": []
  }
 ],
 "metadata": {
  "kernelspec": {
   "display_name": "Python 3",
   "language": "python",
   "name": "python3"
  },
  "language_info": {
   "codemirror_mode": {
    "name": "ipython",
    "version": 3
   },
   "file_extension": ".py",
   "mimetype": "text/x-python",
   "name": "python",
   "nbconvert_exporter": "python",
   "pygments_lexer": "ipython3",
   "version": "3.6.5"
  }
 },
 "nbformat": 4,
 "nbformat_minor": 2
}
