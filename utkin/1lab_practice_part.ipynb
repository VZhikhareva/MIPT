{
 "cells": [
  {
   "cell_type": "markdown",
   "metadata": {},
   "source": [
    "# Начальные данные"
   ]
  },
  {
   "cell_type": "code",
   "execution_count": 46,
   "metadata": {},
   "outputs": [],
   "source": [
    "import math\n",
    "import copy\n",
    "import numpy as np\n",
    "from matplotlib import pyplot as plt"
   ]
  },
  {
   "cell_type": "code",
   "execution_count": 47,
   "metadata": {},
   "outputs": [],
   "source": [
    "Xmin = 0\n",
    "Xmax = 2\n",
    "tmin = 0\n",
    "cur = 0.25\n",
    "h = 0.01\n",
    "I = 201\n",
    "tau = cur * h #так как лямбда = 1\n",
    "tmax = 100*tau\n"
   ]
  },
  {
   "cell_type": "markdown",
   "metadata": {},
   "source": [
    "## Основная часть"
   ]
  },
  {
   "cell_type": "markdown",
   "metadata": {},
   "source": [
    "##### начальное условие"
   ]
  },
  {
   "cell_type": "code",
   "execution_count": 48,
   "metadata": {},
   "outputs": [],
   "source": [
    "def fi(x):\n",
    "    if x >= 0.4 and x <= 0.6:\n",
    "        return math.sqrt(1-100*((x-0.5)**2))\n",
    "    else:\n",
    "        return 0"
   ]
  },
  {
   "cell_type": "code",
   "execution_count": 49,
   "metadata": {},
   "outputs": [],
   "source": [
    "def ut_0(x):\n",
    "    return 0"
   ]
  },
  {
   "cell_type": "code",
   "execution_count": 69,
   "metadata": {},
   "outputs": [],
   "source": [
    " #вектор из альф для точки E (третий порядок ааппроксимации) 0 0, 1 0,-1 -1, -1 1.\n",
    "\n",
    "def calc_alpha(vec):\n",
    "    vec[1] = - cur + vec[3]*(cur + 1) + vec[2]* (1 - cur)\n",
    "    vec[0] = 1 - vec[1] - vec[2] - vec[3]\n",
    "    return vec\n",
    "\n",
    "vec_a =  calc_alpha([0, 0, 0, 1/5]) #ready\n",
    "vec_b =  calc_alpha([0, 0, 0, 5/9]) #ready\n",
    "vec_c =  calc_alpha([0, 0, 5/7, 0]) #ready\n",
    "vec_d =  calc_alpha([0, 0, 1/3, 0]) #ready\n",
    "vec_m = calc_alpha([0, 0, 130/411, -5/137])\n",
    "vec_e = calc_alpha([0, 0, 2/3, -1/5])\n",
    "\n",
    "vec_n = calc_alpha([0, 0, 5/21, 0])\n",
    "vec_p = calc_alpha([0, 0, 2/3-6*math.sqrt(5/7), 2*math.sqrt(7/5)-1/5])"
   ]
  },
  {
   "cell_type": "code",
   "execution_count": 101,
   "metadata": {},
   "outputs": [],
   "source": [
    "def calc_u(u, vec, m, n, m_max):\n",
    "    u[m][n+1] = vec[0]*u[m][n] + vec[2]*u[m-1][n-1] + vec[3]*u[m-1][n+1]\n",
    "    if (m + 1 < m_max): \n",
    "        u[m][n+1] = u[m][n+1] + vec[1]*u[m+1][n] \n",
    "    return u\n",
    "def hyb_cnd(u, m, n, m_max):\n",
    "    if (m - 1 < 0): \n",
    "        um1 = 0\n",
    "    else:\n",
    "        um1 = u[m - 1][n-1]\n",
    "    return ((min(um1, u[m][n]) <= u[m][n + 1]) and (max(um1, u[m][n]) >= u[m][n + 1]))\n",
    "def calc_all_u(vec):\n",
    "    n_max = 50\n",
    "    m_max = 201\n",
    "    u = [[0] * n_max for i in range(m_max)]\n",
    "    for m in range(0, m_max):\n",
    "        u[m][0] = fi(m * h)\n",
    "    for n in range(0, n_max - 1):\n",
    "        for m in range(0, m_max):\n",
    "            u = calc_u(u, vec, m, n, m_max)\n",
    "    return u\n",
    "\n",
    "def calc_all_hybr_u(vec1, vec2):\n",
    "    sw1 = 0\n",
    "    sw2 = 0\n",
    "    n_max = 50\n",
    "    m_max = 201\n",
    "    u = [[0] * n_max for i in range(m_max)]\n",
    "    for m in range(0, m_max):\n",
    "        u[m][0] = fi(m * h)\n",
    "    for n in range(0, n_max - 1):\n",
    "        for m in range(0, m_max):\n",
    "            u = calc_u(u, vec1, m, n, m_max)\n",
    "            if (not(hyb_cnd(u, m, n, m_max))):\n",
    "                u = calc_u(u, vec2, m, n, m_max)\n",
    "                sw1 += 1\n",
    "            else:\n",
    "                sw2 += 1\n",
    "    print('sw1: ', sw1 , ', sw2: ', sw2 , '\\n')\n",
    "    return u\n",
    "\n",
    "def calc_all_hybr1_u(vec1, vec2, vec3):\n",
    "    sw1 = 0\n",
    "    sw2 = 0\n",
    "    sw3 = 0\n",
    "    n_max = 50\n",
    "    m_max = 201\n",
    "    u = [[0] * n_max for i in range(m_max)]\n",
    "    for m in range(0, m_max):\n",
    "        u[m][0] = fi(m * h)\n",
    "    for n in range(0, n_max - 1):\n",
    "        for m in range(0, m_max):\n",
    "            u = calc_u(u, vec1, m, n, m_max)\n",
    "            if ((hyb_cnd(u, m, n, m_max))):\n",
    "                sw1 += 1\n",
    "            else:\n",
    "                u = calc_u(u, vec2, m, n, m_max)\n",
    "                if ((hyb_cnd(u, m, n, m_max))):\n",
    "                    sw2 += 1\n",
    "                else:\n",
    "                    u = calc_u(u, vec3, m, n, m_max)\n",
    "                    sw3 += 1\n",
    "    print('sw1: ', sw1 , ', sw2: ', sw2 , 'sw3: ',sw3,  '\\n')\n",
    "    return u"
   ]
  },
  {
   "cell_type": "code",
   "execution_count": 60,
   "metadata": {},
   "outputs": [
    {
     "name": "stdout",
     "output_type": "stream",
     "text": [
      "[0.0, 0.0, 0.0, 0.0, 0.0, 0.0, 0.0, 0.0, 0.0, 0.0, 0.0, 0.0, 0.0, 0.0, 0.0, 0.0, 0.0, 0.0, 0.0, 0.0, 0.0, 0.0, 0.0, 0.0, 0.0, 0.0, 0.0, 0.0, 0.0, 0.0, 0.0, 0.0, 0.0, 0.0, 0.0, 0.0, 0.0, 0.0, 0.0, 0.0, 0.0, 0.22, 0.44, 0.6, 0.72, 0.81, 0.87, 0.92, 0.96, 0.98, 0.99, 0.99, 0.99, 0.97, 0.94, 0.9, 0.84, 0.77, 0.68, 0.54, 0.25, 0.09, 0.03, 0.01, 0.0, 0.0, 0.0, 0.0, 0.0, 0.0, 0.0, 0.0, 0.0, 0.0, 0.0, 0.0, 0.0, 0.0, 0.0, 0.0, 0.0, 0.0, 0.0, 0.0, 0.0, 0.0, 0.0, 0.0, 0.0, 0.0, 0.0, 0.0, 0.0, 0.0, 0.0, 0.0, 0.0, 0.0, 0.0, 0.0, 0.0, 0.0, 0.0, 0.0, 0.0, 0.0, 0.0, 0.0, 0.0, 0.0, 0.0, 0.0, 0.0, 0.0, 0.0, 0.0, 0.0, 0.0, 0.0, 0.0, 0.0, 0.0, 0.0, 0.0, 0.0, 0.0, 0.0, 0.0, 0.0, 0.0, 0.0, 0.0, 0.0, 0.0, 0.0, 0.0, 0.0, 0.0, 0.0, 0.0, 0.0, 0.0, 0.0, 0.0, 0.0, 0.0, 0.0, 0.0, 0.0, 0.0, 0.0, 0.0, 0.0, 0.0, 0.0, 0.0, 0.0, 0.0, 0.0, 0.0, 0.0, 0.0, 0.0, 0.0, 0.0, 0.0, 0.0, 0.0, 0.0, 0.0, 0.0, 0.0, 0.0, 0.0, 0.0, 0.0, 0.0, 0.0, 0.0, 0.0, 0.0, 0.0, 0.0, 0.0, 0.0, 0.0, 0.0, 0.0, 0.0, 0.0, 0.0, 0.0, 0.0, 0.0, 0.0, 0.0, 0.0, 0.0, 0.0, 0.0, 0.0]\n"
     ]
    }
   ],
   "source": [
    "def print_u(u, n):\n",
    "    print([round(u[i][n] , 2) for i in range(m_max)])\n",
    "    pass\n",
    "\n",
    "u = calc_all_u(vec_a)\n",
    "print_u(u, 3)\n"
   ]
  },
  {
   "cell_type": "code",
   "execution_count": 102,
   "metadata": {},
   "outputs": [
    {
     "name": "stdout",
     "output_type": "stream",
     "text": [
      "sw1:  9511 , sw2:  1 sw3:  337 \n",
      "\n"
     ]
    },
    {
     "data": {
      "text/plain": [
       "<function matplotlib.pyplot.show(*args, **kw)>"
      ]
     },
     "execution_count": 102,
     "metadata": {},
     "output_type": "execute_result"
    },
    {
     "data": {
      "image/png": "[encoded data removed]",
      "text/plain": [
       "<Figure size 432x288 with 1 Axes>"
      ]
     },
     "metadata": {
      "needs_background": "light"
     },
     "output_type": "display_data"
    }
   ],
   "source": [
    "#u = calc_all_u(vec_e)\n",
    "#u = calc_all_hybr_u(vec_p, vec_n)\n",
    "u = calc_all_hybr1_u( vec_e, vec_p, vec_n )\n",
    "n_max = 50\n",
    "m_max = 201\n",
    "xx = [i * h for i in range(m_max)]\n",
    "u_true = [fi(i * h - (n_max - 1) * tau) for i in range(m_max)] #Точное\n",
    "u_est = [u[i][n_max-1] for i in range(m_max)]  # Численное\n",
    "\n",
    "\n",
    "plt.plot(xx, u_true, 'r')\n",
    "plt.plot(xx, u_est, 'b')\n",
    "\n",
    "plt.show"
   ]
  }
 ],
 "metadata": {
  "kernelspec": {
   "display_name": "Python 3",
   "language": "python",
   "name": "python3"
  },
  "language_info": {
   "codemirror_mode": {
    "name": "ipython",
    "version": 3
   },
   "file_extension": ".py",
   "mimetype": "text/x-python",
   "name": "python",
   "nbconvert_exporter": "python",
   "pygments_lexer": "ipython3",
   "version": "3.6.8"
  }
 },
 "nbformat": 4,
 "nbformat_minor": 2
}
