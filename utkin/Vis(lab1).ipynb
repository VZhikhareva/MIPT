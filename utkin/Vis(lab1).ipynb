{
 "cells": [
  {
   "cell_type": "code",
   "execution_count": 60,
   "metadata": {},
   "outputs": [],
   "source": [
    "import numpy as np\n",
    "import os\n",
    "import matplotlib\n",
    "import matplotlib.pyplot as plt\n",
    "%matplotlib inline \n",
    "def save(name='', fmt='png'):\n",
    "    pwd = os.getcwd()\n",
    "    iPath = './pictures/{}'.format(fmt)\n",
    "    if not os.path.exists(iPath):\n",
    "        os.mkdir(iPath)\n",
    "    os.chdir(iPath)\n",
    "    plt.savefig('{}.{}'.format(name, fmt), fmt='png')\n",
    "    os.chdir(pwd)\n",
    "h = 0.01\n",
    "pathed = 'D:\\ed.txt'\n",
    "def fil(n, path):\n",
    "    count = 1\n",
    "    mas1 = []\n",
    "    mas = []\n",
    "    f = open(path, 'r')\n",
    "    for i in f:\n",
    "        if count == n:\n",
    "            mas = i.split()\n",
    "        count += 1\n",
    "    f.close()\n",
    "    for i in mas:\n",
    "        mas1.append(float(i))\n",
    "    return mas1\n",
    "cf = []\n",
    "cf = fil(101, pathed)\n",
    "#print cf\n",
    "x = np.arange(0.0, 2.0 + h, h)\n",
    "t = np.arange(0.0, 0.9+h, h)\n",
    "z = np.arange(0.9, 1.0+h, h)\n",
    "q = np.arange(1.0, 1.1, h)\n",
    "y = np.arange(1.1, 2.0+h, h)\n",
    "def phi(r):\n",
    "    return r*0\n",
    "def sol(mas):\n",
    "    plt.plot(x, mas, label = 'hybrid_third')\n",
    "    line1 = plt.plot(t, phi(t), label = 'exac_sol')\n",
    "    line2 = plt.plot(z, 10*z-9)\n",
    "    line3 = plt.plot(q, -10*q+11)\n",
    "    line4 = plt.plot(y, phi(y))\n",
    "    plt.setp(line1, color='r', linewidth=1.0)\n",
    "    plt.setp(line2, color='r', linewidth=1.0)\n",
    "    plt.setp(line3, color='r', linewidth=1.0)\n",
    "    plt.setp(line4, color='r', linewidth=1.0)\n",
    "    plt.ylabel('u')\n",
    "    plt.xlabel('x')\n",
    "    plt.legend()\n",
    "    plt.title('')\n",
    "    plt.grid(True)\n",
    "    save('f1_minv', fmt='png')\n",
    "    plt.show()"
   ]
  },
  {
   "cell_type": "code",
   "execution_count": 61,
   "metadata": {},
   "outputs": [
    {
     "data": {
      "image/png": "[encoded data removed]",
      "text/plain": [
       "<matplotlib.figure.Figure at 0xa25aa58>"
      ]
     },
     "metadata": {},
     "output_type": "display_data"
    }
   ],
   "source": [
    "sol(cf)"
   ]
  },
  {
   "cell_type": "code",
   "execution_count": null,
   "metadata": {
    "collapsed": true
   },
   "outputs": [],
   "source": []
  }
 ],
 "metadata": {
  "kernelspec": {
   "display_name": "Python 2",
   "language": "python",
   "name": "python2"
  },
  "language_info": {
   "codemirror_mode": {
    "name": "ipython",
    "version": 2
   },
   "file_extension": ".py",
   "mimetype": "text/x-python",
   "name": "python",
   "nbconvert_exporter": "python",
   "pygments_lexer": "ipython2",
   "version": "2.7.15"
  }
 },
 "nbformat": 4,
 "nbformat_minor": 2
}
