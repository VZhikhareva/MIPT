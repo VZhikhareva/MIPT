{
 "cells": [
  {
   "cell_type": "markdown",
   "metadata": {},
   "source": [
    "!!! ссылки не работают в техе"
   ]
  },
  {
   "cell_type": "code",
   "execution_count": 149,
   "metadata": {},
   "outputs": [],
   "source": [
    " from sympy import symbols, diff\n",
    "import math\n",
    "import numpy as np\n",
    "from sympy import *\n",
    "from IPython.display import display\n",
    "from numpy.linalg import inv\n",
    "import numpy.linalg\n",
    "import matplotlib.pyplot as plt\n"
   ]
  },
  {
   "cell_type": "markdown",
   "metadata": {},
   "source": [
    "\n",
    "$C_{2}H_{2}+2.5O_2+9.405N_2 => 2CO_2 + H_2O + 9.405N_2$"
   ]
  },
  {
   "cell_type": "markdown",
   "metadata": {},
   "source": [
    "\n",
    "Введем нумерацию компонентов: \n",
    "$C_2H_2$ - 1, $O_2$ - 2, $N_2$ - 3, $CO_2$ - 4, $H_2O$ - 5.\n",
    "Массовые доли компонент в продуктах детонации $\\omega_1$ = 0,  $\\omega_2$ = 0,  $\\omega_3$ = 0.713,  $\\omega_4$ = 0.238, $\\omega_5$ = 0.048\n",
    "\n",
    "Молярные массы компонент в граммах на моль $\\mu_1$ = 14, $\\mu_2$ = 32, $\\mu_3$ = 28, $\\mu_4$ = 44, $\\mu_5$ = 18."
   ]
  },
  {
   "cell_type": "markdown",
   "metadata": {},
   "source": [
    "Массовые доли компонент перед фронтом волны $\\omega_{10}$ = 0.039, $\\omega_{20}$ = 0.223, $\\omega_{30}$ = 0.736, $\\omega_{40}$ = 0, $\\omega_{50}$ = 0, "
   ]
  },
  {
   "cell_type": "markdown",
   "metadata": {},
   "source": [
    "Найдем $\\eta_0$ из третьего уравнения системы:"
   ]
  },
  {
   "cell_type": "markdown",
   "metadata": {},
   "source": [
    "Подсчет $\\eta_0$:"
   ]
  },
  {
   "cell_type": "code",
   "execution_count": 150,
   "metadata": {},
   "outputs": [],
   "source": [
    "a_1 = [1.6*10**5,  -2.21*10**3, 1.26*10**1, -7.98*10**(-3), 8.05*10**(-6), -2.43*10**(-9), -7.5*10**(-14)]\n",
    "a_2 = [-3.425*10**4, 4.847*10**2, 1.119, 4.29388*10**(-3), -6.836*10**(-7), -2.023*10**(-9), 1.039*10**(-12)]\n",
    "a_3 = [2.210*10**4, -3.818*10**2, 6.082, -8.53*10**(-3), 1.384*10**(-5), -9.6257*10**(-9), 2.5197*10**(-12)]\n",
    "a_4 = [4.94*10**4, -6.264*10**2, 5.301, 2.505*10**(-3), -2.124*10**(-7), -7.692*10**(-10), 2.8499*10**(-13)]\n",
    "a_5 = [-3.947*10**4, 5.755*10**2, 9.317*10**(-1), 7.222*10**(-3), -7.342*10**(-6), 4.955*10**(-9), -1.336*10**(-12)]\n",
    "a = [a_1, a_2, a_3, a_4, a_5]\n",
    "\n",
    "b_1 = [1.713*10**6, -5.928*10**3, 1.236*10, 1.314*10**(-4), -1.362*10**(-7), 2.712*10**(-11), -1.3*10**(-15)]\n",
    "b_2 = [-1.03*10**6, 2.344*10**3, 1.819, 1.267*10**(-3), -2.188*10**(-7), 2.053*10**(-11), -8.193*10**(-16)]\n",
    "b_3 = [5.8771*10**5, -2.239*10**3, 6.066, -6.139*10**(-4), 1.49*10**(-7), -1.923*10**(-11), 1.06*10**(-15)]\n",
    "b_4 = [1.17*10**5, -1.788*10**3, 8.291, -9.224*10**(-5), 4.869*10**(-9), -1.892*10**(-12), 6.33*10**(-16)]\n",
    "b_5 = [1.03*10**6, -2.412*10**3, 4.646, 2.291*10**(-3), -6.836*10**(-7), 9.4264*10**(-11), -4.8223*10**(-15)]\n",
    "b = [b_1, b_2, b_3, b_4, b_5]\n",
    "\n",
    "mu = [14, 32, 28, 44, 14] \n",
    "product_mass = 2*mu[3] + mu[4]+ 9.405*mu[3]\n",
    "before_mass = mu[0] + 2.5 * mu[1] + 9.405* mu[2]\n",
    "omega = [0, 0, (9.405*mu[2])/product_mass,(2* mu[3])/product_mass, mu[4]/product_mass]\n",
    "omega_0 = [mu[0]/before_mass, 2.5*mu[1]/before_mass, 9.405*mu[2]/before_mass, 0, 0] "
   ]
  },
  {
   "cell_type": "code",
   "execution_count": 151,
   "metadata": {},
   "outputs": [
    {
     "name": "stdout",
     "output_type": "stream",
     "text": [
      "0.5955467779457951\n"
     ]
    }
   ],
   "source": [
    "\n",
    "R = 8.31*10**3   \n",
    "p_0 = 10**5\n",
    "T_0 = 298\n",
    "Q = 3.38e6\n",
    "fraction_0 = []\n",
    "for i in range(len(omega)):\n",
    "    fraction_0.append(omega[i]/mu[i])\n",
    "eta_0 = (sum(fraction_0)*R* T_0)/p_0\n",
    "print(eta_0)"
   ]
  },
  {
   "cell_type": "code",
   "execution_count": 152,
   "metadata": {},
   "outputs": [
    {
     "data": {
      "text/plain": [
       "'\\nиз примера\\n'"
      ]
     },
     "execution_count": 152,
     "metadata": {},
     "output_type": "execute_result"
    }
   ],
   "source": [
    "\"\"\"\n",
    "из примера\n",
    "\"\"\"\n",
    "# mu_1 = 16\n",
    "# mu_2 = 32 \n",
    "# mu_3 = 28 \n",
    "# mu_4 = 44 \n",
    "# mu_5 = 18\n",
    "\n",
    "\"\"\"\n",
    "из примера\n",
    "\"\"\"\n",
    "# omega_10 = 0.055\n",
    "# omega_20 = 0.220\n",
    "# omega_30 = 0.725 \n",
    "# omega_40 = 0\n",
    "# omega_50 = 0"
   ]
  },
  {
   "cell_type": "code",
   "execution_count": 153,
   "metadata": {},
   "outputs": [],
   "source": [
    "'''\n",
    "Функция считает теплоемкость для каждого компонента\n",
    "коэффициенты a, b определяются компонентом и берутся из таблицы \n",
    "R = 8.31\n",
    "''' \n",
    "def teploem(T, a, b):\n",
    "    C = 0\n",
    "    if T<=10**3:\n",
    "        C = (sum([a[i] * T ** (i - 2) for i in range(7)]) -1)*R\n",
    "#         C = (a[0]/T**2 + a[1]/T + a[2] + a[3]*T + a[4]*T**2 + a[5]*T**3 + a[6]*T**4 - 1)*R \n",
    "    else:\n",
    "        C = (sum([b[i] * T ** (i - 2) for i in range(7)]) -1)*R\n",
    "#         С = (b[0]/T**2 + b[1]/T + b[2] + b[3]*T + b[4]*T**2 + b[5]*T**3 + b[6]*T**4 - 1)*R \n",
    "    return C"
   ]
  },
  {
   "cell_type": "code",
   "execution_count": 154,
   "metadata": {},
   "outputs": [],
   "source": [
    "\"\"\"\n",
    "Теплоемкость при температуре T_0 = 298 К \n",
    "\"\"\"\n",
    "C_0 = []\n",
    "for i in range(5):\n",
    "    C_0.append(teploem(T_0, a[i], b[i]))   "
   ]
  },
  {
   "cell_type": "code",
   "execution_count": 155,
   "metadata": {},
   "outputs": [],
   "source": [
    "\"\"\"\n",
    "Функция считает гамму\n",
    "\"\"\"\n",
    "def gamma(T, C):\n",
    "    frac_0 = []\n",
    "    frac = []\n",
    "    for i in range(len(mu)):\n",
    "        frac_0.append(omega[i]/mu[i])\n",
    "        frac.append(C[i]*omega[i]/mu[i])\n",
    "    gamma = 1 + R*(sum(frac_0))/(sum(frac))\n",
    "    return gamma"
   ]
  },
  {
   "cell_type": "markdown",
   "metadata": {},
   "source": [
    "$\\gamma_0:$"
   ]
  },
  {
   "cell_type": "code",
   "execution_count": 156,
   "metadata": {},
   "outputs": [],
   "source": [
    "gamma_0 = gamma(T_0, C_0)"
   ]
  },
  {
   "cell_type": "code",
   "execution_count": 157,
   "metadata": {},
   "outputs": [],
   "source": [
    "\"\"\"\n",
    "функция f_i, i от 5 до 9\n",
    "\"\"\"\n",
    "def f_i(C, T, a, b):\n",
    "    if T<=10**3:\n",
    "        res = (sum([a[i] * T ** (i - 2) for i in range(7)]) - C / R - 1)\n",
    "    else:\n",
    "        res = (sum([b[i] * T ** (i - 2) for i in range(7)]) - C / R - 1)\n",
    "    return res"
   ]
  },
  {
   "cell_type": "code",
   "execution_count": 158,
   "metadata": {},
   "outputs": [],
   "source": [
    "\"\"\"\n",
    "частная производная по C f_i, i от 5 до 9\n",
    "\"\"\"\n",
    "part_C = 1/R"
   ]
  },
  {
   "cell_type": "code",
   "execution_count": 159,
   "metadata": {},
   "outputs": [],
   "source": [
    "\"\"\"\n",
    "частная производная по T f_i, i от 5 до 9, j от 5 до 9\n",
    "\"\"\"\n",
    "def part_i_T(T, a, b):\n",
    "    if T <= 1e3:\n",
    "        part_T = (sum([(i-2)*a[i] * T ** (i - 3) for i in range(7)])) \n",
    "    else:\n",
    "        part_T = (sum([(i-2)*b[i] * T ** (i - 3) for i in range(7)]))\n",
    "    return part_T"
   ]
  },
  {
   "cell_type": "code",
   "execution_count": 190,
   "metadata": {},
   "outputs": [
    {
     "data": {
      "text/plain": [
       "3.64384787900116/(0.0182331045713621*C_3 + 0.00387732154627583*C_4 + 0.00193866077313792*C_5)**2"
      ]
     },
     "execution_count": 190,
     "metadata": {},
     "output_type": "execute_result"
    }
   ],
   "source": [
    "p, eta, T, gamma, C_1, C_2, C_3, C_4, C_5 = symbols('p eta T gamma C_1, C_2, C_3, C_4, C_5', real=True)\n",
    "f_1 = p*eta/(gamma-1) - p_0*eta_0/(gamma_0 - 1) - 1/2*(p+p_0)*(eta_0 - eta) - Q \n",
    "# f_1 = p*eta - p_0*eta_0/(gamma_0 - 1) * (gamma-1) - 1/2*(p+p_0)*(eta_0 - eta)* (gamma-1) - Q * (gamma-1) \n",
    "f_2 = (p-p_0)/(eta_0 - eta) - (gamma*p)/eta\n",
    "# f_2 = (p-p_0)*eta - p*(eta_0  - eta) * gamma\n",
    "\n",
    "sum_3 = 0\n",
    "for i in range(5):\n",
    "    sum_3 += omega[i]/mu[i] \n",
    "f_3 = p*eta - sum_3*R*T\n",
    "f_4 = gamma - 1 - R*sum_3/(C_1*omega[0]/mu[0] + C_2*omega[1]/mu[1] + C_3*omega[2]/mu[2] + \n",
    "                           C_4*omega[3]/mu[3] + C_5*omega[4]/mu[4])\n",
    "diff(f_4, C_3)"
   ]
  },
  {
   "cell_type": "code",
   "execution_count": 161,
   "metadata": {},
   "outputs": [],
   "source": [
    "# print(diff(f_4, p), '\\n',\n",
    "# diff(f_4, eta), '\\n',\n",
    "# diff(f_4, T), '\\n',\n",
    "# diff(f_4, gamma), '\\n',\n",
    "# diff(f_4, C_1), '\\n',\n",
    "# diff(f_4, C_2), '\\n',\n",
    "# diff(f_4, C_3), '\\n',\n",
    "# diff(f_4, C_4), '\\n',\n",
    "# diff(f_4, C_5))"
   ]
  },
  {
   "cell_type": "code",
   "execution_count": 162,
   "metadata": {},
   "outputs": [],
   "source": [
    "\"\"\"\n",
    "строки 5-9 якобиана (i = от 5 до 9)\n",
    "\"\"\"\n",
    "def J_row_i(i, T):\n",
    "    row_i = [0, 0, part_i_T(T, a[i-5], b[i-5]), 0, 0, 0, 0, 0, 0]\n",
    "    row_i[i-1] = -1/R\n",
    "    return row_i\n",
    "\n",
    "\n"
   ]
  },
  {
   "cell_type": "code",
   "execution_count": 163,
   "metadata": {},
   "outputs": [],
   "source": [
    "\"\"\"\n",
    "строка якобиана для функции f, значения val_1, val_2, val_3, val_4, val_5, val_6, val_7, val_8, val_9 подаются для переменных p, eta, T, gamma, C_1, C_2, C_3, C_4, C_5\n",
    "\"\"\"\n",
    "def J_row(f, val_1, val_2, val_3, val_4, val_5, val_6, val_7, val_8, val_9):\n",
    "    \n",
    "    symb = (p, eta, T, gamma, C_1, C_2, C_3, C_4, C_5)\n",
    "    row = [lambdify(symb, diff(f, p), 'math')(val_1, val_2, val_3, val_4, val_5, val_6, val_7, val_8, val_9), \n",
    "           lambdify(symb, diff(f, eta), 'math')(val_1, val_2, val_3, val_4, val_5, val_6, val_7, val_8, val_9),\n",
    "           lambdify(symb, diff(f, T), 'math')(val_1, val_2, val_3, val_4, val_5, val_6, val_7, val_8, val_9), \n",
    "           lambdify(symb, diff(f, gamma), 'math')(val_1, val_2, val_3, val_4, val_5, val_6, val_7, val_8, val_9), \n",
    "           lambdify(symb, diff(f, C_1), 'math')(val_1, val_2, val_3, val_4, val_5, val_6, val_7, val_8, val_9), \n",
    "           lambdify(symb, diff(f, C_2), 'math')(val_1, val_2, val_3, val_4, val_5, val_6, val_7, val_8, val_9),\n",
    "           lambdify(symb, diff(f, C_3), 'math')(val_1, val_2, val_3, val_4, val_5, val_6, val_7, val_8, val_9), \n",
    "           lambdify(symb, diff(f, C_4), 'math')(val_1, val_2, val_3, val_4, val_5, val_6, val_7, val_8, val_9),\n",
    "           lambdify(symb, diff(f, C_5), 'math')(val_1, val_2, val_3, val_4, val_5, val_6, val_7, val_8, val_9)]\n",
    "    return row"
   ]
  },
  {
   "cell_type": "code",
   "execution_count": 164,
   "metadata": {},
   "outputs": [
    {
     "data": {
      "text/plain": [
       "[1.6082479668477294, 370045.61629818904, 0, -434300.3133677047, 0, 0, 0, 0, 0]"
      ]
     },
     "execution_count": 164,
     "metadata": {},
     "output_type": "execute_result"
    }
   ],
   "source": [
    "J_row(f_1, p_0, eta_0, T_0, gamma_0, C_0[0], C_0[1], C_0[2], C_0[3], C_0[4])"
   ]
  },
  {
   "cell_type": "code",
   "execution_count": 165,
   "metadata": {},
   "outputs": [],
   "source": [
    "def jacobian(val_1, val_2, val_3, val_4, val_5, val_6, val_7, val_8, val_9):\n",
    "    matr = [J_row(f_1, val_1, val_2, val_3, val_4, val_5, val_6, val_7, val_8, val_9), \n",
    "            J_row(f_2, val_1, val_2, val_3, val_4, val_5, val_6, val_7, val_8, val_9),\n",
    "            J_row(f_3, val_1, val_2, val_3, val_4, val_5, val_6, val_7, val_8, val_9),\n",
    "            J_row(f_4, val_1, val_2, val_3, val_4, val_5, val_6, val_7, val_8, val_9), \n",
    "            J_row_i(5, val_3), \n",
    "            J_row_i(6, val_3), \n",
    "            J_row_i(7, val_3), \n",
    "            J_row_i(8, val_3), \n",
    "            J_row_i(9, val_3)] \n",
    "             \n",
    "    return matr"
   ]
  },
  {
   "cell_type": "code",
   "execution_count": 166,
   "metadata": {},
   "outputs": [],
   "source": [
    "# jacobian(p_0, eta_0, T_0, gamma_0, C_0[0], C_0[1], C_0[2], C_0[3], C_0[4]) "
   ]
  },
  {
   "cell_type": "code",
   "execution_count": 167,
   "metadata": {},
   "outputs": [],
   "source": [
    "def FF(i, T, C):\n",
    "    return f_i(C, T, a[i-5], b[i-5])\n"
   ]
  },
  {
   "cell_type": "code",
   "execution_count": 168,
   "metadata": {},
   "outputs": [],
   "source": [
    "def Fcalc(val_1, val_2, val_3, val_4, val_5, val_6, val_7, val_8, val_9):\n",
    "    \n",
    "    symb = (p, eta, T, gamma, C_1, C_2, C_3, C_4, C_5)\n",
    "    row = [\n",
    "        lambdify(symb, f_1, 'math')(val_1, val_2, val_3, val_4, val_5, val_6, val_7, val_8, val_9),\n",
    "        lambdify(symb, f_2, 'math')(val_1, val_2, val_3, val_4, val_5, val_6, val_7, val_8, val_9),\n",
    "        lambdify(symb, f_3, 'math')(val_1, val_2, val_3, val_4, val_5, val_6, val_7, val_8, val_9),\n",
    "        lambdify(symb, f_4, 'math')(val_1, val_2, val_3, val_4, val_5, val_6, val_7, val_8, val_9),\n",
    "        FF(5, val_3, val_5),\n",
    "        FF(6, val_3, val_6),\n",
    "        FF(7, val_3, val_7),\n",
    "        FF(8, val_3, val_8),\n",
    "        FF(9, val_3, val_9)\n",
    "    ]\n",
    "    return row\n",
    "def Fcalc2(x_vec):\n",
    "    return Fcalc(x_vec[0], x_vec[1], x_vec[2], x_vec[3], x_vec[4], x_vec[5], x_vec[6], x_vec[7], x_vec[8])\n"
   ]
  },
  {
   "cell_type": "code",
   "execution_count": 169,
   "metadata": {},
   "outputs": [
    {
     "data": {
      "text/plain": [
       "[-3379999.9999999967,\n",
       " -230092.3886902232,\n",
       " 1.0186340659856796e-10,\n",
       " 2.5579538487363607e-13,\n",
       " 0.0,\n",
       " 0.0,\n",
       " 0.0,\n",
       " 0.0,\n",
       " 0.0]"
      ]
     },
     "execution_count": 169,
     "metadata": {},
     "output_type": "execute_result"
    }
   ],
   "source": [
    "Fcalc(p_0, eta_0, T_0, gamma_0, C_0[0], C_0[1], C_0[2], C_0[3], C_0[4])\n"
   ]
  },
  {
   "cell_type": "code",
   "execution_count": 243,
   "metadata": {},
   "outputs": [],
   "source": [
    "def newton(p, eta, T, gamma, C_1, C_2, C_3, C_4, C_5):\n",
    "    x_vec = np.array((p, eta, T, gamma, C_1, C_2, C_3, C_4, C_5), dtype='float')\n",
    "    x_0 = 1e10\n",
    "    i= 0\n",
    "    vals = []\n",
    "    while abs(x_0)/p_0 >= 1e-3:\n",
    "        tmp = jacobian(x_vec[0], x_vec[1], x_vec[2], x_vec[3], x_vec[4], x_vec[5], x_vec[6], x_vec[7], x_vec[8])\n",
    "        dx_vec  = np.linalg.inv(tmp) @ Fcalc2(x_vec) ### have to F\n",
    "        x_0 = dx_vec[0]\n",
    "        vals.append(list(x_vec))\n",
    "#         print(vals, x_vec)\n",
    "        x_vec -= dx_vec\n",
    "        i+=1\n",
    "    return i, x_vec, vals"
   ]
  },
  {
   "cell_type": "code",
   "execution_count": 244,
   "metadata": {},
   "outputs": [],
   "source": [
    "import pylab\n",
    "def lineplot_1(x_data, y_data, x_label=\"\", y_label=\"\", title=\"\", name = \"\"):\n",
    "    _, ax = plt.subplots()\n",
    "   \n",
    "    ax.plot(x_data, y_data, lw = 1, color = '#539caf', alpha = 1)\n",
    "    ax.set_title(title)\n",
    "    ax.set_xlabel(x_label)\n",
    "    ax.set_ylabel(y_label)\n",
    "    plt.hlines(y=0, xmin=1, xmax=6, lw = 0.5)\n",
    "    plt.savefig(name)"
   ]
  },
  {
   "cell_type": "code",
   "execution_count": 245,
   "metadata": {},
   "outputs": [],
   "source": [
    "def front_speed(x_vec):\n",
    "    return eta_0 * ((x_vec[0] - p_0) / (eta_0 - x_vec[1])) ** .5"
   ]
  },
  {
   "cell_type": "code",
   "execution_count": 246,
   "metadata": {},
   "outputs": [],
   "source": [
    "def gas_speed(x_vec):\n",
    "    nu = (eta_0 - x_vec[1])*math.sqrt((x_vec[0]-p_0)/(eta_0 - x_vec[1]))\n",
    "    return nu"
   ]
  },
  {
   "cell_type": "code",
   "execution_count": 247,
   "metadata": {
    "scrolled": true
   },
   "outputs": [],
   "source": [
    "deton = newton(10*p_0, .5*eta_0, 10*T_0, gamma_0, C_0[0], C_0[1], C_0[2], C_0[3], C_0[4])"
   ]
  },
  {
   "cell_type": "code",
   "execution_count": 248,
   "metadata": {},
   "outputs": [
    {
     "data": {
      "text/plain": [
       "830.5551055383763"
      ]
     },
     "execution_count": 248,
     "metadata": {},
     "output_type": "execute_result"
    }
   ],
   "source": [
    "# front_speed(deton[1])\n",
    "gas_speed(deton[1])\n"
   ]
  },
  {
   "cell_type": "code",
   "execution_count": 249,
   "metadata": {},
   "outputs": [
    {
     "data": {
      "image/png": "[encoded data removed]",
      "text/plain": [
       "<Figure size 432x288 with 1 Axes>"
      ]
     },
     "metadata": {
      "needs_background": "light"
     },
     "output_type": "display_data"
    }
   ],
   "source": [
    "it = np.arange(1, deton[0])\n",
    "pressure = [abs(deton[2][i+1][0]-deton[2][i][0])/p_0 for i in range(0, deton[0]-1)]\n",
    "\n",
    "lineplot_1(it, pressure, 'iter', 'невязка', 'невязка по давлению', 'p_nev.png')"
   ]
  },
  {
   "cell_type": "code",
   "execution_count": 250,
   "metadata": {},
   "outputs": [
    {
     "data": {
      "image/png": "[encoded data removed]",
      "text/plain": [
       "<Figure size 432x288 with 1 Axes>"
      ]
     },
     "metadata": {
      "needs_background": "light"
     },
     "output_type": "display_data"
    }
   ],
   "source": [
    "it = np.arange(1, deton[0])\n",
    "pressure = [abs(deton[2][i+1][1]-deton[2][i][1])/eta_0 for i in range(0, deton[0]-1)]\n",
    "\n",
    "lineplot_1(it, pressure, 'iter', 'невязка', 'невязка по eta', 'eta_nev.png')"
   ]
  },
  {
   "cell_type": "code",
   "execution_count": 251,
   "metadata": {},
   "outputs": [
    {
     "data": {
      "image/png": "[encoded data removed]",
      "text/plain": [
       "<Figure size 432x288 with 1 Axes>"
      ]
     },
     "metadata": {
      "needs_background": "light"
     },
     "output_type": "display_data"
    }
   ],
   "source": [
    "it = np.arange(1, deton[0])\n",
    "pressure = [abs(deton[2][i+1][3]-deton[2][i][3])/T_0 for i in range(0, deton[0]-1)]\n",
    "\n",
    "lineplot_1(it, pressure, 'iter', 'невязка', 'невязка по T', 'T_nev.png')"
   ]
  },
  {
   "cell_type": "code",
   "execution_count": 252,
   "metadata": {},
   "outputs": [
    {
     "name": "stdout",
     "output_type": "stream",
     "text": [
      "(5, array([4.57212350e+04, 1.36617355e+01, 3.12553925e+03, 1.24128137e+00,\n",
      "       7.83041221e+04, 3.18670118e+04, 2.87577403e+04, 5.39553427e+04,\n",
      "       4.88648320e+04]), [[100000.0, 5.955467779457951, 2980.0, 1.3703078071431394, 35380.219482536915, 21052.19609820771, 20790.80649954279, 28792.38441763058, 25255.70484841663], [76676.32374892526, 8.503768595020812, 3560.074507400093, 1.1651027366806417, 79922.45238522446, 32728.25951362394, 29057.690421106672, 54488.75266487118, 50375.34625620113], [56090.69592456043, 11.74430550701492, 3630.034201379196, 1.2385385931442758, 79866.89686361993, 32762.62689421435, 29026.872753019667, 54480.98362357672, 50194.34705782611], [46976.34191786122, 13.133680791284275, 3150.5735095394775, 1.2408246121234314, 78493.83190892628, 31970.559452713936, 28803.910489276528, 54001.818596304096, 49108.66856207353], [45768.454049049586, 13.639049100335734, 3126.620707832548, 1.2412727282977993, 78308.26776695944, 31869.206620496403, 28758.518050543946, 53956.69967871214, 48868.76610858388]])\n"
     ]
    }
   ],
   "source": [
    "defl = newton(p_0, 10*eta_0, 10*T_0, gamma_0, C_0[0], C_0[1], C_0[2], C_0[3], C_0[4])\n",
    "# Должно быть близко к нулю\n",
    "# print(\"Должно быть близко к нулю\")\n",
    "# print(Fcalc2(defl))\n",
    "\n",
    "print(defl)\n",
    "# print(\"скорость фронта: \", front_speed(defl))"
   ]
  },
  {
   "cell_type": "code",
   "execution_count": 253,
   "metadata": {},
   "outputs": [
    {
     "name": "stdout",
     "output_type": "stream",
     "text": [
      "38.38454475322769\n",
      "-842.1499806230154\n"
     ]
    }
   ],
   "source": [
    "print(front_speed(defl[1]))\n",
    "print(gas_speed(defl[1]))"
   ]
  },
  {
   "cell_type": "code",
   "execution_count": 254,
   "metadata": {},
   "outputs": [
    {
     "data": {
      "image/png": "[encoded data removed]",
      "text/plain": [
       "<Figure size 432x288 with 1 Axes>"
      ]
     },
     "metadata": {
      "needs_background": "light"
     },
     "output_type": "display_data"
    }
   ],
   "source": [
    "it = np.arange(1, defl[0])\n",
    "pressure = [abs(defl[2][i+1][0]-defl[2][i][0])/p_0 for i in range(0, defl[0]-1)]\n",
    "\n",
    "lineplot_1(it, pressure, 'iter', 'невязка', 'невязка по давлению для дефлаграционной волны', 'p_defl_nev.png')"
   ]
  },
  {
   "cell_type": "code",
   "execution_count": 255,
   "metadata": {},
   "outputs": [
    {
     "data": {
      "image/png": "[encoded data removed]",
      "text/plain": [
       "<Figure size 432x288 with 1 Axes>"
      ]
     },
     "metadata": {
      "needs_background": "light"
     },
     "output_type": "display_data"
    }
   ],
   "source": [
    "it = np.arange(1, defl[0])\n",
    "pressure = [abs(defl[2][i+1][1]-defl[2][i][1])/eta_0 for i in range(0, defl[0]-1)]\n",
    "\n",
    "lineplot_1(it, pressure, 'iter', 'невязка', 'невязка по $\\eta$ для дефлаграционной волны', 'eta_defl_nev.png')"
   ]
  },
  {
   "cell_type": "code",
   "execution_count": 256,
   "metadata": {},
   "outputs": [
    {
     "data": {
      "image/png": "[encoded data removed]",
      "text/plain": [
       "<Figure size 432x288 with 1 Axes>"
      ]
     },
     "metadata": {
      "needs_background": "light"
     },
     "output_type": "display_data"
    }
   ],
   "source": [
    "it = np.arange(1, defl[0])\n",
    "pressure = [abs(defl[2][i+1][2]-defl[2][i][2])/T_0 for i in range(0, defl[0]-1)]\n",
    "\n",
    "lineplot_1(it, pressure, 'iter', 'невязка', 'невязка по T для дефлаграционной волны', 'T_defl_nev.png')"
   ]
  },
  {
   "cell_type": "code",
   "execution_count": 257,
   "metadata": {},
   "outputs": [],
   "source": [
    "# print(defl - deton)\n",
    "# print(\"Разница в % \", np.round(100*(defl / deton - 1)))"
   ]
  },
  {
   "cell_type": "code",
   "execution_count": 258,
   "metadata": {},
   "outputs": [],
   "source": [
    "import pylab\n",
    "def lineplot(x_data, y_data, y_2_data, x_label=\"\", y_label=\"\", title=\"\"):\n",
    "    # Create the plot object\n",
    "    _, ax = plt.subplots()\n",
    "    # Plot the best fit line, set the linewidth (lw), color and\n",
    "    # transparency (alpha) of the line\n",
    "    ax.plot(x_data, y_data/101325, lw = 1, color = '#539caf', alpha = 1)\n",
    "    ax.plot(x_data, y_2_data/101325, lw = 1, color = '#af53a0', alpha = 1)\n",
    "    plt.scatter(eta_0, p_0/101325, color = 'red', s = 8)\n",
    "    plt.scatter(deton[1][1]-.05, deton[1][0]/101325, color = 'green', s = 8)\n",
    "    plt.scatter(defl[1][1], defl[1][0]/101325 + 0.5, color = 'blue', s = 8)\n",
    "    pylab.legend ( (\"ударная адиабата\", \"адиабата Гюгонио\", \"нормальные условия\", \"детонационное решение\", \"дефлаграционное решение\") )\n",
    "    # Label the axes and provide a title\n",
    "    ax.set_title(title)\n",
    "    ax.set_xlabel(x_label)\n",
    "    ax.set_ylabel(y_label)\n",
    "    \n",
    "    plt.savefig(\"lab_1.png\")"
   ]
  },
  {
   "cell_type": "code",
   "execution_count": 259,
   "metadata": {},
   "outputs": [
    {
     "data": {
      "text/plain": [
       "1.2344795521412815"
      ]
     },
     "execution_count": 259,
     "metadata": {},
     "output_type": "execute_result"
    }
   ],
   "source": [
    "deton[1][3]"
   ]
  },
  {
   "cell_type": "code",
   "execution_count": 185,
   "metadata": {},
   "outputs": [],
   "source": [
    "def ad_p(n):\n",
    "    p0=p_0\n",
    "    rho0=1/eta_0\n",
    "    rho=1/n\n",
    "    g=deton[1][3]\n",
    "    return p0*((rho/rho0)**g)\n",
    "\n",
    "def ad_g(n):\n",
    "    p0=p_0\n",
    "    n0=eta_0\n",
    "    g=deton[1][3]\n",
    "    g0=gamma_0\n",
    "    Q = 33.9\n",
    "    c = (1/(g0-1)+0.5*(n-n0))+Q\n",
    "    z = n/(g-1)-0.5*(n-n0)\n",
    "    return p0*((c)/z)"
   ]
  },
  {
   "cell_type": "code",
   "execution_count": 186,
   "metadata": {},
   "outputs": [
    {
     "data": {
      "image/png": "[encoded data removed]",
      "text/plain": [
       "<Figure size 432x288 with 1 Axes>"
      ]
     },
     "metadata": {
      "needs_background": "light"
     },
     "output_type": "display_data"
    }
   ],
   "source": [
    "eta = np.arange(0.1, 15, 0.001)   #eta \n",
    "# p1 = (p_0*(eta_0/eta)**deton[3]) #p\n",
    "# p2 = (((2*deton[3] - 1)/(2*eta - (deton[3] - 1)*(eta_0 - eta)))*(((deton[3] - 1)*p_0*(eta_0 - eta))/(2*deton[3]-1) + p_0*eta_0/(deton[3] -1) + Q))\n",
    "\n",
    "lineplot(eta, ad_p(eta), ad_g(eta), '$\\eta$, $м^3/кг$', 'p, атм', '')"
   ]
  },
  {
   "cell_type": "code",
   "execution_count": 187,
   "metadata": {},
   "outputs": [
    {
     "data": {
      "text/plain": [
       "[35380.219482536915,\n",
       " 21052.19609820771,\n",
       " 20790.80649954279,\n",
       " 28792.38441763058,\n",
       " 25255.70484841663]"
      ]
     },
     "execution_count": 187,
     "metadata": {},
     "output_type": "execute_result"
    }
   ],
   "source": [
    "C_0"
   ]
  },
  {
   "cell_type": "code",
   "execution_count": null,
   "metadata": {},
   "outputs": [],
   "source": []
  },
  {
   "cell_type": "code",
   "execution_count": 189,
   "metadata": {},
   "outputs": [
    {
     "data": {
      "text/plain": [
       "0.0182331045713621*gamma - 0.0182331045713621"
      ]
     },
     "execution_count": 189,
     "metadata": {},
     "output_type": "execute_result"
    }
   ],
   "source": [
    "diff(f_4, C_3)"
   ]
  },
  {
   "cell_type": "code",
   "execution_count": null,
   "metadata": {},
   "outputs": [],
   "source": []
  },
  {
   "cell_type": "code",
   "execution_count": null,
   "metadata": {},
   "outputs": [],
   "source": []
  },
  {
   "cell_type": "code",
   "execution_count": null,
   "metadata": {},
   "outputs": [],
   "source": []
  },
  {
   "cell_type": "code",
   "execution_count": null,
   "metadata": {},
   "outputs": [],
   "source": []
  },
  {
   "cell_type": "code",
   "execution_count": null,
   "metadata": {},
   "outputs": [],
   "source": []
  },
  {
   "cell_type": "code",
   "execution_count": null,
   "metadata": {},
   "outputs": [],
   "source": []
  },
  {
   "cell_type": "code",
   "execution_count": null,
   "metadata": {},
   "outputs": [],
   "source": []
  },
  {
   "cell_type": "code",
   "execution_count": null,
   "metadata": {},
   "outputs": [],
   "source": []
  },
  {
   "cell_type": "code",
   "execution_count": null,
   "metadata": {},
   "outputs": [],
   "source": []
  }
 ],
 "metadata": {
  "kernelspec": {
   "display_name": "Python 3",
   "language": "python",
   "name": "python3"
  },
  "language_info": {
   "codemirror_mode": {
    "name": "ipython",
    "version": 3
   },
   "file_extension": ".py",
   "mimetype": "text/x-python",
   "name": "python",
   "nbconvert_exporter": "python",
   "pygments_lexer": "ipython3",
   "version": "3.6.8"
  }
 },
 "nbformat": 4,
 "nbformat_minor": 2
}
