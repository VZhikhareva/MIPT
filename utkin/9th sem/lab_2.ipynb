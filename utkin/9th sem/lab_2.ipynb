{
 "cells": [
  {
   "cell_type": "code",
   "execution_count": 26,
   "metadata": {},
   "outputs": [],
   "source": [
    "import math \n",
    "import matplotlib.pyplot as plt\n",
    "import numpy as np"
   ]
  },
  {
   "cell_type": "code",
   "execution_count": 27,
   "metadata": {},
   "outputs": [],
   "source": [
    "R = 8.31   \n",
    "p_0 = 1e5\n",
    "v_0 = 0\n",
    "T_0 = 298\n",
    "rho_0 = 0.873\n",
    "\n",
    "gamma = 1.25\n",
    "Q = 2.94e6\n",
    "Ea = 71e3\n",
    "A = 1e9\n",
    "mu = 0.029\n",
    "delta = .00000001   #.00000001  \n",
    "n=  1500 #1000\n",
    "\n",
    "# Красиво\n",
    "# Ea = 71e3*2\n",
    "# delta = .0000005\n",
    "# n=850\n",
    "\n",
    "\n",
    "# gamma = 1.17\n",
    "# Q = 5.02e6\n",
    "# Ea = 113e3\n",
    "# A = 6.86e9\n",
    "# mu = 0.021\n",
    "# delta = .00001\n",
    "# n=4000\n",
    "\n"
   ]
  },
  {
   "cell_type": "code",
   "execution_count": 28,
   "metadata": {},
   "outputs": [],
   "source": [
    "\"\"\"\n",
    "левый конец\n",
    "\"\"\"\n",
    "def init_val_0():\n",
    "    Dcj = math.sqrt((gamma**2-1)*Q/2 + gamma*p_0/rho_0) + math.sqrt((gamma**2 - 1)*Q/2) \n",
    "#     print(Dcj)\n",
    "    p_x0 = (2*rho_0*Dcj**2)/(gamma + 1) - (gamma-1)*p_0/(gamma+1)\n",
    "    u_x0 = Dcj - (p_x0 - p_0)/math.sqrt(rho_0*( (gamma+1)*p_x0/2 + (gamma-1)*p_0/2 ))\n",
    "    rho_x0 = rho_0*Dcj/u_x0\n",
    "    Z_x0 = 1\n",
    "    val_0 = [rho_x0, u_x0, p_x0, Z_x0]\n",
    "    return val_0\n",
    "int_def_0 =  init_val_0()[:]       "
   ]
  },
  {
   "cell_type": "code",
   "execution_count": 29,
   "metadata": {},
   "outputs": [
    {
     "data": {
      "text/plain": [
       "[5.955710906295739, 277.6618666741472, 2773297.2503372105, 1]"
      ]
     },
     "execution_count": 29,
     "metadata": {},
     "output_type": "execute_result"
    }
   ],
   "source": [
    "init_val_0()"
   ]
  },
  {
   "cell_type": "code",
   "execution_count": 30,
   "metadata": {},
   "outputs": [],
   "source": [
    "def f_i(rho, u, p, Z):\n",
    "    c = math.sqrt(abs(gamma * p / rho))\n",
    "    tmp = (-rho * Ea / p / mu)\n",
    "    if tmp > 15:\n",
    "        tmp = 15\n",
    "#     print(A * rho * Z)\n",
    "    f4 = (-(A * rho * Z) * math.exp(tmp) / u)\n",
    "    f2 = (- f4 * Q * u * (gamma - 1) / (c**2 - u**2))\n",
    "    f1 = (- rho * f2 / u)\n",
    "    f3 = (- f2 * rho * u)\n",
    "    return [f1, f2, f3, f4]"
   ]
  },
  {
   "cell_type": "code",
   "execution_count": 31,
   "metadata": {
    "scrolled": true
   },
   "outputs": [
    {
     "data": {
      "text/plain": [
       "[-968217.4926983779,\n",
       " 45139376.406770915,\n",
       " -74645804455.89069,\n",
       " -111690.99051214727]"
      ]
     },
     "execution_count": 31,
     "metadata": {},
     "output_type": "execute_result"
    }
   ],
   "source": [
    "f_i(int_def_0[0], int_def_0[1], int_def_0[2], int_def_0[3])"
   ]
  },
  {
   "cell_type": "code",
   "execution_count": 32,
   "metadata": {},
   "outputs": [],
   "source": [
    "vals_0 = [[int_def_0[0]] * n, [int_def_0[1]] * n, [int_def_0[2]] * n,  [int_def_0[3]] * n]\n"
   ]
  },
  {
   "cell_type": "code",
   "execution_count": 33,
   "metadata": {},
   "outputs": [],
   "source": [
    "def calc_all_f(vals, n):\n",
    "    a0 = [] \n",
    "    a1 = []\n",
    "    a2 = [] \n",
    "    a3 = [] \n",
    "    for i in range(n):\n",
    "        tmp = f_i(vals[0][i], vals[1][i], vals[2][i], vals[3][i])[:]\n",
    "        a0.append(tmp[0])\n",
    "        a1.append(tmp[1])\n",
    "        a2.append(tmp[2])\n",
    "        a3.append(tmp[3])\n",
    "#     ff = [ for i in range(n)]    \n",
    "#     rs = [[ff[i][0] for i in range(n)], [ff[i][1] for i in range(n)], [ff[i][2] for i in range(n)], [ff[i][3] for i in range(n)]]\n",
    "    return [a0, a1, a2, a3]"
   ]
  },
  {
   "cell_type": "code",
   "execution_count": 34,
   "metadata": {},
   "outputs": [],
   "source": [
    "def new_iter(vals, delta):\n",
    "    n = len(vals[0])\n",
    "    f_iter = calc_all_f(vals, n)\n",
    "    vals2 = []\n",
    "    for vrb in range(4):\n",
    "        tmp = []\n",
    "        tmp.append(vals[vrb][0])\n",
    "        for i in range(n - 1):\n",
    "            if i == 0:\n",
    "                tmp.append((2 * delta * f_iter[vrb][i + 1] - tmp[i    ] + 4 * tmp[i]) / 3)\n",
    "            else:\n",
    "                tmp.append((2 * delta * f_iter[vrb][i + 1] - tmp[i - 1] + 4 * tmp[i]) / 3)\n",
    "        vals2.append(tmp)\n",
    "            \n",
    "    return vals2\n"
   ]
  },
  {
   "cell_type": "code",
   "execution_count": 35,
   "metadata": {},
   "outputs": [],
   "source": [
    "def plot_all0(func, delta, tit):\n",
    "    fig = plt.figure()\n",
    "    ax = fig.add_subplot(222) \n",
    "    ax.set_xlabel('x, м')\n",
    "    x_data = [delta * i for i in range(len(func))]\n",
    "    ax.plot(x_data, func)\n",
    "    plt.title(tit)\n",
    "    ax.tick_params(axis ='x')\n",
    "    plt.savefig('fig_' + str(tit) + '.png')\n",
    "    plt.show()\n",
    "def plot_all(vals, delta):\n",
    "    for vrb in range(4):\n",
    "        plot_all0(vals[vrb], delta, ['rho', 'u', 'p', 'Z'][vrb])\n",
    "        plt.savefig('fig' + str(vrb) + '.png')"
   ]
  },
  {
   "cell_type": "code",
   "execution_count": 36,
   "metadata": {},
   "outputs": [],
   "source": [
    "def converge_test(valsn, vals):\n",
    "    return max([math.sqrt((1 - vals[0][i] / valsn[0][i]) ** 2 + (1 - vals[1][i] / valsn[1][i]) ** 2 + \n",
    "              (1 - vals[2][i] / valsn[2][i]) ** 2 + (1 - vals[3][i] / valsn[3][i]) ** 2) \n",
    "     for i in range(len(vals[0]))])\n",
    "    \n"
   ]
  },
  {
   "cell_type": "code",
   "execution_count": 1,
   "metadata": {},
   "outputs": [],
   "source": [
    "vals_0 = [[int_def_0[0]] * n, [int_def_0[1]] * n, [int_def_0[2]] * n,  [int_def_0[3]] * n]\n",
    "vals = vals_0[:]\n",
    "#vals = new_iter(vals, delta)\n",
    "i = 0\n",
    "err = 100\n",
    "while err > 1e-6:\n",
    "    vals2 = new_iter(vals, delta)\n",
    "    err = converge_test(vals2, vals)\n",
    "    print(i, err)\n",
    "    vals = vals2\n",
    "    i += 1\n",
    "# print(i, converge_test(vals2, vals))\n"
   ]
  },
  {
   "cell_type": "code",
   "execution_count": 38,
   "metadata": {},
   "outputs": [
    {
     "data": {
      "text/plain": [
       "[1.0, 1.0]"
      ]
     },
     "execution_count": 38,
     "metadata": {},
     "output_type": "execute_result"
    }
   ],
   "source": [
    "aa = [1,2]\n",
    "bb = [1, 2]\n",
    "[aa[i]/bb[i] for i in range(len(aa))]"
   ]
  },
  {
   "cell_type": "code",
   "execution_count": 39,
   "metadata": {},
   "outputs": [
    {
     "data": {
      "image/png": "[encoded data removed]",
      "text/plain": [
       "<Figure size 432x288 with 1 Axes>"
      ]
     },
     "metadata": {
      "needs_background": "light"
     },
     "output_type": "display_data"
    }
   ],
   "source": [
    "plot_all0([vals[2][i]*mu/R/vals[0][i] for i in range(len(vals[2]))], delta, 'T')"
   ]
  },
  {
   "cell_type": "code",
   "execution_count": 40,
   "metadata": {},
   "outputs": [
    {
     "data": {
      "image/png": "[encoded data removed]",
      "text/plain": [
       "<Figure size 432x288 with 1 Axes>"
      ]
     },
     "metadata": {
      "needs_background": "light"
     },
     "output_type": "display_data"
    },
    {
     "data": {
      "text/plain": [
       "<Figure size 432x288 with 0 Axes>"
      ]
     },
     "metadata": {},
     "output_type": "display_data"
    },
    {
     "data": {
      "image/png": "[encoded data removed]",
      "text/plain": [
       "<Figure size 432x288 with 1 Axes>"
      ]
     },
     "metadata": {
      "needs_background": "light"
     },
     "output_type": "display_data"
    },
    {
     "data": {
      "text/plain": [
       "<Figure size 432x288 with 0 Axes>"
      ]
     },
     "metadata": {},
     "output_type": "display_data"
    },
    {
     "data": {
      "image/png": "[encoded data removed]",
      "text/plain": [
       "<Figure size 432x288 with 1 Axes>"
      ]
     },
     "metadata": {
      "needs_background": "light"
     },
     "output_type": "display_data"
    },
    {
     "data": {
      "text/plain": [
       "<Figure size 432x288 with 0 Axes>"
      ]
     },
     "metadata": {},
     "output_type": "display_data"
    },
    {
     "data": {
      "image/png": "[encoded data removed]",
      "text/plain": [
       "<Figure size 432x288 with 1 Axes>"
      ]
     },
     "metadata": {
      "needs_background": "light"
     },
     "output_type": "display_data"
    },
    {
     "data": {
      "text/plain": [
       "<Figure size 432x288 with 0 Axes>"
      ]
     },
     "metadata": {},
     "output_type": "display_data"
    }
   ],
   "source": [
    "plot_all(vals, delta)\n"
   ]
  },
  {
   "cell_type": "code",
   "execution_count": 41,
   "metadata": {},
   "outputs": [
    {
     "name": "stdout",
     "output_type": "stream",
     "text": [
      "0.05729470907286218 17.56579608292317 1.5e-05\n",
      "c right:  1088.5894460457296 , u right:  892.4842024019449\n"
     ]
    }
   ],
   "source": [
    "print(vals[3][n-1], vals[2][n-1] / 1e5, delta * n)\n",
    "print(\"c right: \", math.sqrt(abs(gamma*vals[2][n-1]/vals[0][n-1])), \", u right: \", vals[1][n-1])"
   ]
  },
  {
   "cell_type": "code",
   "execution_count": 42,
   "metadata": {},
   "outputs": [],
   "source": [
    "\"\"\"\n",
    "теоретические оценки параметров Ч-Ж\n",
    "\"\"\"\n",
    "def param_cj(gamma, mu):\n",
    "    Dcj = math.sqrt((gamma**2-1)*Q/2 + gamma*p_0/rho_0) + math.sqrt((gamma**2 - 1)*Q/2) \n",
    "    p_cj = p_0 / (gamma+1) + rho_0 * (Dcj-v_0)**2 / (gamma+1)\n",
    "    rho_cj = (gamma + 1) * rho_0**2 * (Dcj - v_0)**2 / gamma / (p_0 + rho_0 * (Dcj - v_0)**2)\n",
    "    T_cj = p_cj * mu / rho_cj / R\n",
    "    return p_cj, rho_cj, T_cj, Dcj"
   ]
  },
  {
   "cell_type": "code",
   "execution_count": 43,
   "metadata": {},
   "outputs": [
    {
     "data": {
      "text/plain": [
       "(1436648.6251686052, 1.522786860519354, 3292.3683256041872, 1894.2426204050994)"
      ]
     },
     "execution_count": 43,
     "metadata": {},
     "output_type": "execute_result"
    }
   ],
   "source": [
    "param_cj(gamma, mu)"
   ]
  }
 ],
 "metadata": {
  "kernelspec": {
   "display_name": "Python 3",
   "language": "python",
   "name": "python3"
  },
  "language_info": {
   "codemirror_mode": {
    "name": "ipython",
    "version": 3
   },
   "file_extension": ".py",
   "mimetype": "text/x-python",
   "name": "python",
   "nbconvert_exporter": "python",
   "pygments_lexer": "ipython3",
   "version": "3.6.8"
  }
 },
 "nbformat": 4,
 "nbformat_minor": 2
}
